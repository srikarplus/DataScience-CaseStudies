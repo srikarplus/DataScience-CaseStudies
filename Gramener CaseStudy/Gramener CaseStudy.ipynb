{
 "cells": [
  {
   "cell_type": "code",
   "execution_count": 23,
   "metadata": {},
   "outputs": [],
   "source": [
    "library(readr)\n",
    "library(dplyr)\n",
    "library(stringr)\n",
    "library(lubridate)"
   ]
  },
  {
   "cell_type": "code",
   "execution_count": 25,
   "metadata": {},
   "outputs": [
    {
     "name": "stdout",
     "output_type": "stream",
     "text": [
      "Observations: 39,717\n",
      "Variables: 111\n",
      "$ id                             <int> 1077501, 1077430, 1077175, 1076863, ...\n",
      "$ member_id                      <int> 1296599, 1314167, 1313524, 1277178, ...\n",
      "$ loan_amnt                      <int> 5000, 2500, 2400, 10000, 3000, 5000,...\n",
      "$ funded_amnt                    <int> 5000, 2500, 2400, 10000, 3000, 5000,...\n",
      "$ funded_amnt_inv                <dbl> 4975.00, 2500.00, 2400.00, 10000.00,...\n",
      "$ term                           <chr> \"36 months\", \"60 months\", \"36 months...\n",
      "$ int_rate                       <chr> \"10.65%\", \"15.27%\", \"15.96%\", \"13.49...\n",
      "$ installment                    <dbl> 162.87, 59.83, 84.33, 339.31, 67.79,...\n",
      "$ grade                          <chr> \"B\", \"C\", \"C\", \"C\", \"B\", \"A\", \"C\", \"...\n",
      "$ sub_grade                      <chr> \"B2\", \"C4\", \"C5\", \"C1\", \"B5\", \"A4\", ...\n",
      "$ emp_title                      <chr> NA, \"Ryder\", NA, \"AIR RESOURCES BOAR...\n",
      "$ emp_length                     <chr> \"10+ years\", \"< 1 year\", \"10+ years\"...\n",
      "$ home_ownership                 <chr> \"RENT\", \"RENT\", \"RENT\", \"RENT\", \"REN...\n",
      "$ annual_inc                     <dbl> 24000.00, 30000.00, 12252.00, 49200....\n",
      "$ verification_status            <chr> \"Verified\", \"Source Verified\", \"Not ...\n",
      "$ issue_d                        <chr> \"Dec-11\", \"Dec-11\", \"Dec-11\", \"Dec-1...\n",
      "$ loan_status                    <chr> \"Fully Paid\", \"Charged Off\", \"Fully ...\n",
      "$ pymnt_plan                     <chr> \"n\", \"n\", \"n\", \"n\", \"n\", \"n\", \"n\", \"...\n",
      "$ url                            <chr> \"https://lendingclub.com/browse/loan...\n",
      "$ desc                           <chr> \"Borrower added on 12/22/11 > I need...\n",
      "$ purpose                        <chr> \"credit_card\", \"car\", \"small_busines...\n",
      "$ title                          <chr> \"Computer\", \"bike\", \"real estate bus...\n",
      "$ zip_code                       <chr> \"860xx\", \"309xx\", \"606xx\", \"917xx\", ...\n",
      "$ addr_state                     <chr> \"AZ\", \"GA\", \"IL\", \"CA\", \"OR\", \"AZ\", ...\n",
      "$ dti                            <dbl> 27.65, 1.00, 8.72, 20.00, 17.94, 11....\n",
      "$ delinq_2yrs                    <int> 0, 0, 0, 0, 0, 0, 0, 0, 0, 0, 0, 0, ...\n",
      "$ earliest_cr_line               <chr> \"Jan-85\", \"Apr-99\", \"Nov-01\", \"Feb-9...\n",
      "$ inq_last_6mths                 <int> 1, 5, 2, 1, 0, 3, 1, 2, 2, 0, 2, 0, ...\n",
      "$ mths_since_last_delinq         <int> NA, NA, NA, 35, 38, NA, NA, NA, NA, ...\n",
      "$ mths_since_last_record         <int> NA, NA, NA, NA, NA, NA, NA, NA, NA, ...\n",
      "$ open_acc                       <int> 3, 3, 2, 10, 15, 9, 7, 4, 11, 2, 14,...\n",
      "$ pub_rec                        <int> 0, 0, 0, 0, 0, 0, 0, 0, 0, 0, 0, 0, ...\n",
      "$ revol_bal                      <int> 13648, 1687, 2956, 5598, 27783, 7963...\n",
      "$ revol_util                     <chr> \"83.70%\", \"9.40%\", \"98.50%\", \"21%\", ...\n",
      "$ total_acc                      <int> 9, 4, 10, 37, 38, 12, 11, 4, 13, 3, ...\n",
      "$ initial_list_status            <chr> \"f\", \"f\", \"f\", \"f\", \"f\", \"f\", \"f\", \"...\n",
      "$ out_prncp                      <dbl> 0.00, 0.00, 0.00, 0.00, 524.06, 0.00...\n",
      "$ out_prncp_inv                  <dbl> 0.00, 0.00, 0.00, 0.00, 524.06, 0.00...\n",
      "$ total_pymnt                    <dbl> 5863.155, 1008.710, 3005.667, 12231....\n",
      "$ total_pymnt_inv                <dbl> 5833.84, 1008.71, 3005.67, 12231.89,...\n",
      "$ total_rec_prncp                <dbl> 5000.00, 456.46, 2400.00, 10000.00, ...\n",
      "$ total_rec_int                  <dbl> 863.16, 435.17, 605.67, 2214.92, 103...\n",
      "$ total_rec_late_fee             <dbl> 0.00, 0.00, 0.00, 16.97, 0.00, 0.00,...\n",
      "$ recoveries                     <dbl> 0.00, 117.08, 0.00, 0.00, 0.00, 0.00...\n",
      "$ collection_recovery_fee        <dbl> 0.0000, 1.1100, 0.0000, 0.0000, 0.00...\n",
      "$ last_pymnt_d                   <chr> \"Jan-15\", \"Apr-13\", \"Jun-14\", \"Jan-1...\n",
      "$ last_pymnt_amnt                <dbl> 171.62, 119.66, 649.91, 357.48, 67.7...\n",
      "$ next_pymnt_d                   <chr> NA, NA, NA, NA, \"Jun-16\", NA, NA, NA...\n",
      "$ last_credit_pull_d             <chr> \"May-16\", \"Sep-13\", \"May-16\", \"Apr-1...\n",
      "$ collections_12_mths_ex_med     <int> 0, 0, 0, 0, 0, 0, 0, 0, 0, 0, 0, 0, ...\n",
      "$ mths_since_last_major_derog    <chr> NA, NA, NA, NA, NA, NA, NA, NA, NA, ...\n",
      "$ policy_code                    <int> 1, 1, 1, 1, 1, 1, 1, 1, 1, 1, 1, 1, ...\n",
      "$ application_type               <chr> \"INDIVIDUAL\", \"INDIVIDUAL\", \"INDIVID...\n",
      "$ annual_inc_joint               <chr> NA, NA, NA, NA, NA, NA, NA, NA, NA, ...\n",
      "$ dti_joint                      <chr> NA, NA, NA, NA, NA, NA, NA, NA, NA, ...\n",
      "$ verification_status_joint      <chr> NA, NA, NA, NA, NA, NA, NA, NA, NA, ...\n",
      "$ acc_now_delinq                 <int> 0, 0, 0, 0, 0, 0, 0, 0, 0, 0, 0, 0, ...\n",
      "$ tot_coll_amt                   <chr> NA, NA, NA, NA, NA, NA, NA, NA, NA, ...\n",
      "$ tot_cur_bal                    <chr> NA, NA, NA, NA, NA, NA, NA, NA, NA, ...\n",
      "$ open_acc_6m                    <chr> NA, NA, NA, NA, NA, NA, NA, NA, NA, ...\n",
      "$ open_il_6m                     <chr> NA, NA, NA, NA, NA, NA, NA, NA, NA, ...\n",
      "$ open_il_12m                    <chr> NA, NA, NA, NA, NA, NA, NA, NA, NA, ...\n",
      "$ open_il_24m                    <chr> NA, NA, NA, NA, NA, NA, NA, NA, NA, ...\n",
      "$ mths_since_rcnt_il             <chr> NA, NA, NA, NA, NA, NA, NA, NA, NA, ...\n",
      "$ total_bal_il                   <chr> NA, NA, NA, NA, NA, NA, NA, NA, NA, ...\n",
      "$ il_util                        <chr> NA, NA, NA, NA, NA, NA, NA, NA, NA, ...\n",
      "$ open_rv_12m                    <chr> NA, NA, NA, NA, NA, NA, NA, NA, NA, ...\n",
      "$ open_rv_24m                    <chr> NA, NA, NA, NA, NA, NA, NA, NA, NA, ...\n",
      "$ max_bal_bc                     <chr> NA, NA, NA, NA, NA, NA, NA, NA, NA, ...\n",
      "$ all_util                       <chr> NA, NA, NA, NA, NA, NA, NA, NA, NA, ...\n",
      "$ total_rev_hi_lim               <chr> NA, NA, NA, NA, NA, NA, NA, NA, NA, ...\n",
      "$ inq_fi                         <chr> NA, NA, NA, NA, NA, NA, NA, NA, NA, ...\n",
      "$ total_cu_tl                    <chr> NA, NA, NA, NA, NA, NA, NA, NA, NA, ...\n",
      "$ inq_last_12m                   <chr> NA, NA, NA, NA, NA, NA, NA, NA, NA, ...\n",
      "$ acc_open_past_24mths           <chr> NA, NA, NA, NA, NA, NA, NA, NA, NA, ...\n",
      "$ avg_cur_bal                    <chr> NA, NA, NA, NA, NA, NA, NA, NA, NA, ...\n",
      "$ bc_open_to_buy                 <chr> NA, NA, NA, NA, NA, NA, NA, NA, NA, ...\n",
      "$ bc_util                        <chr> NA, NA, NA, NA, NA, NA, NA, NA, NA, ...\n",
      "$ chargeoff_within_12_mths       <int> 0, 0, 0, 0, 0, 0, 0, 0, 0, 0, 0, 0, ...\n",
      "$ delinq_amnt                    <int> 0, 0, 0, 0, 0, 0, 0, 0, 0, 0, 0, 0, ...\n",
      "$ mo_sin_old_il_acct             <chr> NA, NA, NA, NA, NA, NA, NA, NA, NA, ...\n",
      "$ mo_sin_old_rev_tl_op           <chr> NA, NA, NA, NA, NA, NA, NA, NA, NA, ...\n",
      "$ mo_sin_rcnt_rev_tl_op          <chr> NA, NA, NA, NA, NA, NA, NA, NA, NA, ...\n",
      "$ mo_sin_rcnt_tl                 <chr> NA, NA, NA, NA, NA, NA, NA, NA, NA, ...\n",
      "$ mort_acc                       <chr> NA, NA, NA, NA, NA, NA, NA, NA, NA, ...\n",
      "$ mths_since_recent_bc           <chr> NA, NA, NA, NA, NA, NA, NA, NA, NA, ...\n",
      "$ mths_since_recent_bc_dlq       <chr> NA, NA, NA, NA, NA, NA, NA, NA, NA, ...\n",
      "$ mths_since_recent_inq          <chr> NA, NA, NA, NA, NA, NA, NA, NA, NA, ...\n",
      "$ mths_since_recent_revol_delinq <chr> NA, NA, NA, NA, NA, NA, NA, NA, NA, ...\n",
      "$ num_accts_ever_120_pd          <chr> NA, NA, NA, NA, NA, NA, NA, NA, NA, ...\n",
      "$ num_actv_bc_tl                 <chr> NA, NA, NA, NA, NA, NA, NA, NA, NA, ...\n",
      "$ num_actv_rev_tl                <chr> NA, NA, NA, NA, NA, NA, NA, NA, NA, ...\n",
      "$ num_bc_sats                    <chr> NA, NA, NA, NA, NA, NA, NA, NA, NA, ...\n",
      "$ num_bc_tl                      <chr> NA, NA, NA, NA, NA, NA, NA, NA, NA, ...\n",
      "$ num_il_tl                      <chr> NA, NA, NA, NA, NA, NA, NA, NA, NA, ...\n",
      "$ num_op_rev_tl                  <chr> NA, NA, NA, NA, NA, NA, NA, NA, NA, ...\n",
      "$ num_rev_accts                  <chr> NA, NA, NA, NA, NA, NA, NA, NA, NA, ...\n",
      "$ num_rev_tl_bal_gt_0            <chr> NA, NA, NA, NA, NA, NA, NA, NA, NA, ...\n",
      "$ num_sats                       <chr> NA, NA, NA, NA, NA, NA, NA, NA, NA, ...\n",
      "$ num_tl_120dpd_2m               <chr> NA, NA, NA, NA, NA, NA, NA, NA, NA, ...\n",
      "$ num_tl_30dpd                   <chr> NA, NA, NA, NA, NA, NA, NA, NA, NA, ...\n",
      "$ num_tl_90g_dpd_24m             <chr> NA, NA, NA, NA, NA, NA, NA, NA, NA, ...\n",
      "$ num_tl_op_past_12m             <chr> NA, NA, NA, NA, NA, NA, NA, NA, NA, ...\n",
      "$ pct_tl_nvr_dlq                 <chr> NA, NA, NA, NA, NA, NA, NA, NA, NA, ...\n",
      "$ percent_bc_gt_75               <chr> NA, NA, NA, NA, NA, NA, NA, NA, NA, ...\n",
      "$ pub_rec_bankruptcies           <int> 0, 0, 0, 0, 0, 0, 0, 0, 0, 0, 0, 0, ...\n",
      "$ tax_liens                      <int> 0, 0, 0, 0, 0, 0, 0, 0, 0, 0, 0, 0, ...\n",
      "$ tot_hi_cred_lim                <chr> NA, NA, NA, NA, NA, NA, NA, NA, NA, ...\n",
      "$ total_bal_ex_mort              <chr> NA, NA, NA, NA, NA, NA, NA, NA, NA, ...\n",
      "$ total_bc_limit                 <chr> NA, NA, NA, NA, NA, NA, NA, NA, NA, ...\n",
      "$ total_il_high_credit_limit     <chr> NA, NA, NA, NA, NA, NA, NA, NA, NA, ...\n"
     ]
    }
   ],
   "source": [
    "loan <- read_csv('loan.csv', col_types = cols())\n",
    "glimpse(loan)"
   ]
  },
  {
   "cell_type": "code",
   "execution_count": 26,
   "metadata": {},
   "outputs": [
    {
     "data": {
      "text/html": [
       "<dl class=dl-horizontal>\n",
       "\t<dt>id</dt>\n",
       "\t\t<dd>0</dd>\n",
       "\t<dt>member_id</dt>\n",
       "\t\t<dd>0</dd>\n",
       "\t<dt>loan_amnt</dt>\n",
       "\t\t<dd>0</dd>\n",
       "\t<dt>funded_amnt</dt>\n",
       "\t\t<dd>0</dd>\n",
       "\t<dt>funded_amnt_inv</dt>\n",
       "\t\t<dd>0</dd>\n",
       "\t<dt>term</dt>\n",
       "\t\t<dd>0</dd>\n",
       "\t<dt>int_rate</dt>\n",
       "\t\t<dd>0</dd>\n",
       "\t<dt>installment</dt>\n",
       "\t\t<dd>0</dd>\n",
       "\t<dt>grade</dt>\n",
       "\t\t<dd>0</dd>\n",
       "\t<dt>sub_grade</dt>\n",
       "\t\t<dd>0</dd>\n",
       "\t<dt>emp_title</dt>\n",
       "\t\t<dd>2453</dd>\n",
       "\t<dt>emp_length</dt>\n",
       "\t\t<dd>0</dd>\n",
       "\t<dt>home_ownership</dt>\n",
       "\t\t<dd>0</dd>\n",
       "\t<dt>annual_inc</dt>\n",
       "\t\t<dd>0</dd>\n",
       "\t<dt>verification_status</dt>\n",
       "\t\t<dd>0</dd>\n",
       "\t<dt>issue_d</dt>\n",
       "\t\t<dd>0</dd>\n",
       "\t<dt>loan_status</dt>\n",
       "\t\t<dd>0</dd>\n",
       "\t<dt>pymnt_plan</dt>\n",
       "\t\t<dd>0</dd>\n",
       "\t<dt>url</dt>\n",
       "\t\t<dd>0</dd>\n",
       "\t<dt>desc</dt>\n",
       "\t\t<dd>13149</dd>\n",
       "\t<dt>purpose</dt>\n",
       "\t\t<dd>0</dd>\n",
       "\t<dt>title</dt>\n",
       "\t\t<dd>10</dd>\n",
       "\t<dt>zip_code</dt>\n",
       "\t\t<dd>0</dd>\n",
       "\t<dt>addr_state</dt>\n",
       "\t\t<dd>0</dd>\n",
       "\t<dt>dti</dt>\n",
       "\t\t<dd>0</dd>\n",
       "\t<dt>delinq_2yrs</dt>\n",
       "\t\t<dd>0</dd>\n",
       "\t<dt>earliest_cr_line</dt>\n",
       "\t\t<dd>0</dd>\n",
       "\t<dt>inq_last_6mths</dt>\n",
       "\t\t<dd>0</dd>\n",
       "\t<dt>mths_since_last_delinq</dt>\n",
       "\t\t<dd>25682</dd>\n",
       "\t<dt>mths_since_last_record</dt>\n",
       "\t\t<dd>36931</dd>\n",
       "\t<dt>open_acc</dt>\n",
       "\t\t<dd>0</dd>\n",
       "\t<dt>pub_rec</dt>\n",
       "\t\t<dd>0</dd>\n",
       "\t<dt>revol_bal</dt>\n",
       "\t\t<dd>0</dd>\n",
       "\t<dt>revol_util</dt>\n",
       "\t\t<dd>50</dd>\n",
       "\t<dt>total_acc</dt>\n",
       "\t\t<dd>0</dd>\n",
       "\t<dt>initial_list_status</dt>\n",
       "\t\t<dd>0</dd>\n",
       "\t<dt>out_prncp</dt>\n",
       "\t\t<dd>0</dd>\n",
       "\t<dt>out_prncp_inv</dt>\n",
       "\t\t<dd>0</dd>\n",
       "\t<dt>total_pymnt</dt>\n",
       "\t\t<dd>0</dd>\n",
       "\t<dt>total_pymnt_inv</dt>\n",
       "\t\t<dd>0</dd>\n",
       "\t<dt>total_rec_prncp</dt>\n",
       "\t\t<dd>0</dd>\n",
       "\t<dt>total_rec_int</dt>\n",
       "\t\t<dd>0</dd>\n",
       "\t<dt>total_rec_late_fee</dt>\n",
       "\t\t<dd>0</dd>\n",
       "\t<dt>recoveries</dt>\n",
       "\t\t<dd>0</dd>\n",
       "\t<dt>collection_recovery_fee</dt>\n",
       "\t\t<dd>0</dd>\n",
       "\t<dt>last_pymnt_d</dt>\n",
       "\t\t<dd>71</dd>\n",
       "\t<dt>last_pymnt_amnt</dt>\n",
       "\t\t<dd>0</dd>\n",
       "\t<dt>next_pymnt_d</dt>\n",
       "\t\t<dd>38577</dd>\n",
       "\t<dt>last_credit_pull_d</dt>\n",
       "\t\t<dd>2</dd>\n",
       "\t<dt>collections_12_mths_ex_med</dt>\n",
       "\t\t<dd>56</dd>\n",
       "\t<dt>mths_since_last_major_derog</dt>\n",
       "\t\t<dd>39717</dd>\n",
       "\t<dt>policy_code</dt>\n",
       "\t\t<dd>0</dd>\n",
       "\t<dt>application_type</dt>\n",
       "\t\t<dd>0</dd>\n",
       "\t<dt>annual_inc_joint</dt>\n",
       "\t\t<dd>39717</dd>\n",
       "\t<dt>dti_joint</dt>\n",
       "\t\t<dd>39717</dd>\n",
       "\t<dt>verification_status_joint</dt>\n",
       "\t\t<dd>39717</dd>\n",
       "\t<dt>acc_now_delinq</dt>\n",
       "\t\t<dd>0</dd>\n",
       "\t<dt>tot_coll_amt</dt>\n",
       "\t\t<dd>39717</dd>\n",
       "\t<dt>tot_cur_bal</dt>\n",
       "\t\t<dd>39717</dd>\n",
       "\t<dt>open_acc_6m</dt>\n",
       "\t\t<dd>39717</dd>\n",
       "\t<dt>open_il_6m</dt>\n",
       "\t\t<dd>39717</dd>\n",
       "\t<dt>open_il_12m</dt>\n",
       "\t\t<dd>39717</dd>\n",
       "\t<dt>open_il_24m</dt>\n",
       "\t\t<dd>39717</dd>\n",
       "\t<dt>mths_since_rcnt_il</dt>\n",
       "\t\t<dd>39717</dd>\n",
       "\t<dt>total_bal_il</dt>\n",
       "\t\t<dd>39717</dd>\n",
       "\t<dt>il_util</dt>\n",
       "\t\t<dd>39717</dd>\n",
       "\t<dt>open_rv_12m</dt>\n",
       "\t\t<dd>39717</dd>\n",
       "\t<dt>open_rv_24m</dt>\n",
       "\t\t<dd>39717</dd>\n",
       "\t<dt>max_bal_bc</dt>\n",
       "\t\t<dd>39717</dd>\n",
       "\t<dt>all_util</dt>\n",
       "\t\t<dd>39717</dd>\n",
       "\t<dt>total_rev_hi_lim</dt>\n",
       "\t\t<dd>39717</dd>\n",
       "\t<dt>inq_fi</dt>\n",
       "\t\t<dd>39717</dd>\n",
       "\t<dt>total_cu_tl</dt>\n",
       "\t\t<dd>39717</dd>\n",
       "\t<dt>inq_last_12m</dt>\n",
       "\t\t<dd>39717</dd>\n",
       "\t<dt>acc_open_past_24mths</dt>\n",
       "\t\t<dd>39717</dd>\n",
       "\t<dt>avg_cur_bal</dt>\n",
       "\t\t<dd>39717</dd>\n",
       "\t<dt>bc_open_to_buy</dt>\n",
       "\t\t<dd>39717</dd>\n",
       "\t<dt>bc_util</dt>\n",
       "\t\t<dd>39717</dd>\n",
       "\t<dt>chargeoff_within_12_mths</dt>\n",
       "\t\t<dd>56</dd>\n",
       "\t<dt>delinq_amnt</dt>\n",
       "\t\t<dd>0</dd>\n",
       "\t<dt>mo_sin_old_il_acct</dt>\n",
       "\t\t<dd>39717</dd>\n",
       "\t<dt>mo_sin_old_rev_tl_op</dt>\n",
       "\t\t<dd>39717</dd>\n",
       "\t<dt>mo_sin_rcnt_rev_tl_op</dt>\n",
       "\t\t<dd>39717</dd>\n",
       "\t<dt>mo_sin_rcnt_tl</dt>\n",
       "\t\t<dd>39717</dd>\n",
       "\t<dt>mort_acc</dt>\n",
       "\t\t<dd>39717</dd>\n",
       "\t<dt>mths_since_recent_bc</dt>\n",
       "\t\t<dd>39717</dd>\n",
       "\t<dt>mths_since_recent_bc_dlq</dt>\n",
       "\t\t<dd>39717</dd>\n",
       "\t<dt>mths_since_recent_inq</dt>\n",
       "\t\t<dd>39717</dd>\n",
       "\t<dt>mths_since_recent_revol_delinq</dt>\n",
       "\t\t<dd>39717</dd>\n",
       "\t<dt>num_accts_ever_120_pd</dt>\n",
       "\t\t<dd>39717</dd>\n",
       "\t<dt>num_actv_bc_tl</dt>\n",
       "\t\t<dd>39717</dd>\n",
       "\t<dt>num_actv_rev_tl</dt>\n",
       "\t\t<dd>39717</dd>\n",
       "\t<dt>num_bc_sats</dt>\n",
       "\t\t<dd>39717</dd>\n",
       "\t<dt>num_bc_tl</dt>\n",
       "\t\t<dd>39717</dd>\n",
       "\t<dt>num_il_tl</dt>\n",
       "\t\t<dd>39717</dd>\n",
       "\t<dt>num_op_rev_tl</dt>\n",
       "\t\t<dd>39717</dd>\n",
       "\t<dt>num_rev_accts</dt>\n",
       "\t\t<dd>39717</dd>\n",
       "\t<dt>num_rev_tl_bal_gt_0</dt>\n",
       "\t\t<dd>39717</dd>\n",
       "\t<dt>num_sats</dt>\n",
       "\t\t<dd>39717</dd>\n",
       "\t<dt>num_tl_120dpd_2m</dt>\n",
       "\t\t<dd>39717</dd>\n",
       "\t<dt>num_tl_30dpd</dt>\n",
       "\t\t<dd>39717</dd>\n",
       "\t<dt>num_tl_90g_dpd_24m</dt>\n",
       "\t\t<dd>39717</dd>\n",
       "\t<dt>num_tl_op_past_12m</dt>\n",
       "\t\t<dd>39717</dd>\n",
       "\t<dt>pct_tl_nvr_dlq</dt>\n",
       "\t\t<dd>39717</dd>\n",
       "\t<dt>percent_bc_gt_75</dt>\n",
       "\t\t<dd>39717</dd>\n",
       "\t<dt>pub_rec_bankruptcies</dt>\n",
       "\t\t<dd>697</dd>\n",
       "\t<dt>tax_liens</dt>\n",
       "\t\t<dd>39</dd>\n",
       "\t<dt>tot_hi_cred_lim</dt>\n",
       "\t\t<dd>39717</dd>\n",
       "\t<dt>total_bal_ex_mort</dt>\n",
       "\t\t<dd>39717</dd>\n",
       "\t<dt>total_bc_limit</dt>\n",
       "\t\t<dd>39717</dd>\n",
       "\t<dt>total_il_high_credit_limit</dt>\n",
       "\t\t<dd>39717</dd>\n",
       "</dl>\n"
      ],
      "text/latex": [
       "\\begin{description*}\n",
       "\\item[id] 0\n",
       "\\item[member\\textbackslash{}\\_id] 0\n",
       "\\item[loan\\textbackslash{}\\_amnt] 0\n",
       "\\item[funded\\textbackslash{}\\_amnt] 0\n",
       "\\item[funded\\textbackslash{}\\_amnt\\textbackslash{}\\_inv] 0\n",
       "\\item[term] 0\n",
       "\\item[int\\textbackslash{}\\_rate] 0\n",
       "\\item[installment] 0\n",
       "\\item[grade] 0\n",
       "\\item[sub\\textbackslash{}\\_grade] 0\n",
       "\\item[emp\\textbackslash{}\\_title] 2453\n",
       "\\item[emp\\textbackslash{}\\_length] 0\n",
       "\\item[home\\textbackslash{}\\_ownership] 0\n",
       "\\item[annual\\textbackslash{}\\_inc] 0\n",
       "\\item[verification\\textbackslash{}\\_status] 0\n",
       "\\item[issue\\textbackslash{}\\_d] 0\n",
       "\\item[loan\\textbackslash{}\\_status] 0\n",
       "\\item[pymnt\\textbackslash{}\\_plan] 0\n",
       "\\item[url] 0\n",
       "\\item[desc] 13149\n",
       "\\item[purpose] 0\n",
       "\\item[title] 10\n",
       "\\item[zip\\textbackslash{}\\_code] 0\n",
       "\\item[addr\\textbackslash{}\\_state] 0\n",
       "\\item[dti] 0\n",
       "\\item[delinq\\textbackslash{}\\_2yrs] 0\n",
       "\\item[earliest\\textbackslash{}\\_cr\\textbackslash{}\\_line] 0\n",
       "\\item[inq\\textbackslash{}\\_last\\textbackslash{}\\_6mths] 0\n",
       "\\item[mths\\textbackslash{}\\_since\\textbackslash{}\\_last\\textbackslash{}\\_delinq] 25682\n",
       "\\item[mths\\textbackslash{}\\_since\\textbackslash{}\\_last\\textbackslash{}\\_record] 36931\n",
       "\\item[open\\textbackslash{}\\_acc] 0\n",
       "\\item[pub\\textbackslash{}\\_rec] 0\n",
       "\\item[revol\\textbackslash{}\\_bal] 0\n",
       "\\item[revol\\textbackslash{}\\_util] 50\n",
       "\\item[total\\textbackslash{}\\_acc] 0\n",
       "\\item[initial\\textbackslash{}\\_list\\textbackslash{}\\_status] 0\n",
       "\\item[out\\textbackslash{}\\_prncp] 0\n",
       "\\item[out\\textbackslash{}\\_prncp\\textbackslash{}\\_inv] 0\n",
       "\\item[total\\textbackslash{}\\_pymnt] 0\n",
       "\\item[total\\textbackslash{}\\_pymnt\\textbackslash{}\\_inv] 0\n",
       "\\item[total\\textbackslash{}\\_rec\\textbackslash{}\\_prncp] 0\n",
       "\\item[total\\textbackslash{}\\_rec\\textbackslash{}\\_int] 0\n",
       "\\item[total\\textbackslash{}\\_rec\\textbackslash{}\\_late\\textbackslash{}\\_fee] 0\n",
       "\\item[recoveries] 0\n",
       "\\item[collection\\textbackslash{}\\_recovery\\textbackslash{}\\_fee] 0\n",
       "\\item[last\\textbackslash{}\\_pymnt\\textbackslash{}\\_d] 71\n",
       "\\item[last\\textbackslash{}\\_pymnt\\textbackslash{}\\_amnt] 0\n",
       "\\item[next\\textbackslash{}\\_pymnt\\textbackslash{}\\_d] 38577\n",
       "\\item[last\\textbackslash{}\\_credit\\textbackslash{}\\_pull\\textbackslash{}\\_d] 2\n",
       "\\item[collections\\textbackslash{}\\_12\\textbackslash{}\\_mths\\textbackslash{}\\_ex\\textbackslash{}\\_med] 56\n",
       "\\item[mths\\textbackslash{}\\_since\\textbackslash{}\\_last\\textbackslash{}\\_major\\textbackslash{}\\_derog] 39717\n",
       "\\item[policy\\textbackslash{}\\_code] 0\n",
       "\\item[application\\textbackslash{}\\_type] 0\n",
       "\\item[annual\\textbackslash{}\\_inc\\textbackslash{}\\_joint] 39717\n",
       "\\item[dti\\textbackslash{}\\_joint] 39717\n",
       "\\item[verification\\textbackslash{}\\_status\\textbackslash{}\\_joint] 39717\n",
       "\\item[acc\\textbackslash{}\\_now\\textbackslash{}\\_delinq] 0\n",
       "\\item[tot\\textbackslash{}\\_coll\\textbackslash{}\\_amt] 39717\n",
       "\\item[tot\\textbackslash{}\\_cur\\textbackslash{}\\_bal] 39717\n",
       "\\item[open\\textbackslash{}\\_acc\\textbackslash{}\\_6m] 39717\n",
       "\\item[open\\textbackslash{}\\_il\\textbackslash{}\\_6m] 39717\n",
       "\\item[open\\textbackslash{}\\_il\\textbackslash{}\\_12m] 39717\n",
       "\\item[open\\textbackslash{}\\_il\\textbackslash{}\\_24m] 39717\n",
       "\\item[mths\\textbackslash{}\\_since\\textbackslash{}\\_rcnt\\textbackslash{}\\_il] 39717\n",
       "\\item[total\\textbackslash{}\\_bal\\textbackslash{}\\_il] 39717\n",
       "\\item[il\\textbackslash{}\\_util] 39717\n",
       "\\item[open\\textbackslash{}\\_rv\\textbackslash{}\\_12m] 39717\n",
       "\\item[open\\textbackslash{}\\_rv\\textbackslash{}\\_24m] 39717\n",
       "\\item[max\\textbackslash{}\\_bal\\textbackslash{}\\_bc] 39717\n",
       "\\item[all\\textbackslash{}\\_util] 39717\n",
       "\\item[total\\textbackslash{}\\_rev\\textbackslash{}\\_hi\\textbackslash{}\\_lim] 39717\n",
       "\\item[inq\\textbackslash{}\\_fi] 39717\n",
       "\\item[total\\textbackslash{}\\_cu\\textbackslash{}\\_tl] 39717\n",
       "\\item[inq\\textbackslash{}\\_last\\textbackslash{}\\_12m] 39717\n",
       "\\item[acc\\textbackslash{}\\_open\\textbackslash{}\\_past\\textbackslash{}\\_24mths] 39717\n",
       "\\item[avg\\textbackslash{}\\_cur\\textbackslash{}\\_bal] 39717\n",
       "\\item[bc\\textbackslash{}\\_open\\textbackslash{}\\_to\\textbackslash{}\\_buy] 39717\n",
       "\\item[bc\\textbackslash{}\\_util] 39717\n",
       "\\item[chargeoff\\textbackslash{}\\_within\\textbackslash{}\\_12\\textbackslash{}\\_mths] 56\n",
       "\\item[delinq\\textbackslash{}\\_amnt] 0\n",
       "\\item[mo\\textbackslash{}\\_sin\\textbackslash{}\\_old\\textbackslash{}\\_il\\textbackslash{}\\_acct] 39717\n",
       "\\item[mo\\textbackslash{}\\_sin\\textbackslash{}\\_old\\textbackslash{}\\_rev\\textbackslash{}\\_tl\\textbackslash{}\\_op] 39717\n",
       "\\item[mo\\textbackslash{}\\_sin\\textbackslash{}\\_rcnt\\textbackslash{}\\_rev\\textbackslash{}\\_tl\\textbackslash{}\\_op] 39717\n",
       "\\item[mo\\textbackslash{}\\_sin\\textbackslash{}\\_rcnt\\textbackslash{}\\_tl] 39717\n",
       "\\item[mort\\textbackslash{}\\_acc] 39717\n",
       "\\item[mths\\textbackslash{}\\_since\\textbackslash{}\\_recent\\textbackslash{}\\_bc] 39717\n",
       "\\item[mths\\textbackslash{}\\_since\\textbackslash{}\\_recent\\textbackslash{}\\_bc\\textbackslash{}\\_dlq] 39717\n",
       "\\item[mths\\textbackslash{}\\_since\\textbackslash{}\\_recent\\textbackslash{}\\_inq] 39717\n",
       "\\item[mths\\textbackslash{}\\_since\\textbackslash{}\\_recent\\textbackslash{}\\_revol\\textbackslash{}\\_delinq] 39717\n",
       "\\item[num\\textbackslash{}\\_accts\\textbackslash{}\\_ever\\textbackslash{}\\_120\\textbackslash{}\\_pd] 39717\n",
       "\\item[num\\textbackslash{}\\_actv\\textbackslash{}\\_bc\\textbackslash{}\\_tl] 39717\n",
       "\\item[num\\textbackslash{}\\_actv\\textbackslash{}\\_rev\\textbackslash{}\\_tl] 39717\n",
       "\\item[num\\textbackslash{}\\_bc\\textbackslash{}\\_sats] 39717\n",
       "\\item[num\\textbackslash{}\\_bc\\textbackslash{}\\_tl] 39717\n",
       "\\item[num\\textbackslash{}\\_il\\textbackslash{}\\_tl] 39717\n",
       "\\item[num\\textbackslash{}\\_op\\textbackslash{}\\_rev\\textbackslash{}\\_tl] 39717\n",
       "\\item[num\\textbackslash{}\\_rev\\textbackslash{}\\_accts] 39717\n",
       "\\item[num\\textbackslash{}\\_rev\\textbackslash{}\\_tl\\textbackslash{}\\_bal\\textbackslash{}\\_gt\\textbackslash{}\\_0] 39717\n",
       "\\item[num\\textbackslash{}\\_sats] 39717\n",
       "\\item[num\\textbackslash{}\\_tl\\textbackslash{}\\_120dpd\\textbackslash{}\\_2m] 39717\n",
       "\\item[num\\textbackslash{}\\_tl\\textbackslash{}\\_30dpd] 39717\n",
       "\\item[num\\textbackslash{}\\_tl\\textbackslash{}\\_90g\\textbackslash{}\\_dpd\\textbackslash{}\\_24m] 39717\n",
       "\\item[num\\textbackslash{}\\_tl\\textbackslash{}\\_op\\textbackslash{}\\_past\\textbackslash{}\\_12m] 39717\n",
       "\\item[pct\\textbackslash{}\\_tl\\textbackslash{}\\_nvr\\textbackslash{}\\_dlq] 39717\n",
       "\\item[percent\\textbackslash{}\\_bc\\textbackslash{}\\_gt\\textbackslash{}\\_75] 39717\n",
       "\\item[pub\\textbackslash{}\\_rec\\textbackslash{}\\_bankruptcies] 697\n",
       "\\item[tax\\textbackslash{}\\_liens] 39\n",
       "\\item[tot\\textbackslash{}\\_hi\\textbackslash{}\\_cred\\textbackslash{}\\_lim] 39717\n",
       "\\item[total\\textbackslash{}\\_bal\\textbackslash{}\\_ex\\textbackslash{}\\_mort] 39717\n",
       "\\item[total\\textbackslash{}\\_bc\\textbackslash{}\\_limit] 39717\n",
       "\\item[total\\textbackslash{}\\_il\\textbackslash{}\\_high\\textbackslash{}\\_credit\\textbackslash{}\\_limit] 39717\n",
       "\\end{description*}\n"
      ],
      "text/markdown": [
       "id\n",
       ":   0member_id\n",
       ":   0loan_amnt\n",
       ":   0funded_amnt\n",
       ":   0funded_amnt_inv\n",
       ":   0term\n",
       ":   0int_rate\n",
       ":   0installment\n",
       ":   0grade\n",
       ":   0sub_grade\n",
       ":   0emp_title\n",
       ":   2453emp_length\n",
       ":   0home_ownership\n",
       ":   0annual_inc\n",
       ":   0verification_status\n",
       ":   0issue_d\n",
       ":   0loan_status\n",
       ":   0pymnt_plan\n",
       ":   0url\n",
       ":   0desc\n",
       ":   13149purpose\n",
       ":   0title\n",
       ":   10zip_code\n",
       ":   0addr_state\n",
       ":   0dti\n",
       ":   0delinq_2yrs\n",
       ":   0earliest_cr_line\n",
       ":   0inq_last_6mths\n",
       ":   0mths_since_last_delinq\n",
       ":   25682mths_since_last_record\n",
       ":   36931open_acc\n",
       ":   0pub_rec\n",
       ":   0revol_bal\n",
       ":   0revol_util\n",
       ":   50total_acc\n",
       ":   0initial_list_status\n",
       ":   0out_prncp\n",
       ":   0out_prncp_inv\n",
       ":   0total_pymnt\n",
       ":   0total_pymnt_inv\n",
       ":   0total_rec_prncp\n",
       ":   0total_rec_int\n",
       ":   0total_rec_late_fee\n",
       ":   0recoveries\n",
       ":   0collection_recovery_fee\n",
       ":   0last_pymnt_d\n",
       ":   71last_pymnt_amnt\n",
       ":   0next_pymnt_d\n",
       ":   38577last_credit_pull_d\n",
       ":   2collections_12_mths_ex_med\n",
       ":   56mths_since_last_major_derog\n",
       ":   39717policy_code\n",
       ":   0application_type\n",
       ":   0annual_inc_joint\n",
       ":   39717dti_joint\n",
       ":   39717verification_status_joint\n",
       ":   39717acc_now_delinq\n",
       ":   0tot_coll_amt\n",
       ":   39717tot_cur_bal\n",
       ":   39717open_acc_6m\n",
       ":   39717open_il_6m\n",
       ":   39717open_il_12m\n",
       ":   39717open_il_24m\n",
       ":   39717mths_since_rcnt_il\n",
       ":   39717total_bal_il\n",
       ":   39717il_util\n",
       ":   39717open_rv_12m\n",
       ":   39717open_rv_24m\n",
       ":   39717max_bal_bc\n",
       ":   39717all_util\n",
       ":   39717total_rev_hi_lim\n",
       ":   39717inq_fi\n",
       ":   39717total_cu_tl\n",
       ":   39717inq_last_12m\n",
       ":   39717acc_open_past_24mths\n",
       ":   39717avg_cur_bal\n",
       ":   39717bc_open_to_buy\n",
       ":   39717bc_util\n",
       ":   39717chargeoff_within_12_mths\n",
       ":   56delinq_amnt\n",
       ":   0mo_sin_old_il_acct\n",
       ":   39717mo_sin_old_rev_tl_op\n",
       ":   39717mo_sin_rcnt_rev_tl_op\n",
       ":   39717mo_sin_rcnt_tl\n",
       ":   39717mort_acc\n",
       ":   39717mths_since_recent_bc\n",
       ":   39717mths_since_recent_bc_dlq\n",
       ":   39717mths_since_recent_inq\n",
       ":   39717mths_since_recent_revol_delinq\n",
       ":   39717num_accts_ever_120_pd\n",
       ":   39717num_actv_bc_tl\n",
       ":   39717num_actv_rev_tl\n",
       ":   39717num_bc_sats\n",
       ":   39717num_bc_tl\n",
       ":   39717num_il_tl\n",
       ":   39717num_op_rev_tl\n",
       ":   39717num_rev_accts\n",
       ":   39717num_rev_tl_bal_gt_0\n",
       ":   39717num_sats\n",
       ":   39717num_tl_120dpd_2m\n",
       ":   39717num_tl_30dpd\n",
       ":   39717num_tl_90g_dpd_24m\n",
       ":   39717num_tl_op_past_12m\n",
       ":   39717pct_tl_nvr_dlq\n",
       ":   39717percent_bc_gt_75\n",
       ":   39717pub_rec_bankruptcies\n",
       ":   697tax_liens\n",
       ":   39tot_hi_cred_lim\n",
       ":   39717total_bal_ex_mort\n",
       ":   39717total_bc_limit\n",
       ":   39717total_il_high_credit_limit\n",
       ":   39717\n",
       "\n"
      ],
      "text/plain": [
       "                            id                      member_id \n",
       "                             0                              0 \n",
       "                     loan_amnt                    funded_amnt \n",
       "                             0                              0 \n",
       "               funded_amnt_inv                           term \n",
       "                             0                              0 \n",
       "                      int_rate                    installment \n",
       "                             0                              0 \n",
       "                         grade                      sub_grade \n",
       "                             0                              0 \n",
       "                     emp_title                     emp_length \n",
       "                          2453                              0 \n",
       "                home_ownership                     annual_inc \n",
       "                             0                              0 \n",
       "           verification_status                        issue_d \n",
       "                             0                              0 \n",
       "                   loan_status                     pymnt_plan \n",
       "                             0                              0 \n",
       "                           url                           desc \n",
       "                             0                          13149 \n",
       "                       purpose                          title \n",
       "                             0                             10 \n",
       "                      zip_code                     addr_state \n",
       "                             0                              0 \n",
       "                           dti                    delinq_2yrs \n",
       "                             0                              0 \n",
       "              earliest_cr_line                 inq_last_6mths \n",
       "                             0                              0 \n",
       "        mths_since_last_delinq         mths_since_last_record \n",
       "                         25682                          36931 \n",
       "                      open_acc                        pub_rec \n",
       "                             0                              0 \n",
       "                     revol_bal                     revol_util \n",
       "                             0                             50 \n",
       "                     total_acc            initial_list_status \n",
       "                             0                              0 \n",
       "                     out_prncp                  out_prncp_inv \n",
       "                             0                              0 \n",
       "                   total_pymnt                total_pymnt_inv \n",
       "                             0                              0 \n",
       "               total_rec_prncp                  total_rec_int \n",
       "                             0                              0 \n",
       "            total_rec_late_fee                     recoveries \n",
       "                             0                              0 \n",
       "       collection_recovery_fee                   last_pymnt_d \n",
       "                             0                             71 \n",
       "               last_pymnt_amnt                   next_pymnt_d \n",
       "                             0                          38577 \n",
       "            last_credit_pull_d     collections_12_mths_ex_med \n",
       "                             2                             56 \n",
       "   mths_since_last_major_derog                    policy_code \n",
       "                         39717                              0 \n",
       "              application_type               annual_inc_joint \n",
       "                             0                          39717 \n",
       "                     dti_joint      verification_status_joint \n",
       "                         39717                          39717 \n",
       "                acc_now_delinq                   tot_coll_amt \n",
       "                             0                          39717 \n",
       "                   tot_cur_bal                    open_acc_6m \n",
       "                         39717                          39717 \n",
       "                    open_il_6m                    open_il_12m \n",
       "                         39717                          39717 \n",
       "                   open_il_24m             mths_since_rcnt_il \n",
       "                         39717                          39717 \n",
       "                  total_bal_il                        il_util \n",
       "                         39717                          39717 \n",
       "                   open_rv_12m                    open_rv_24m \n",
       "                         39717                          39717 \n",
       "                    max_bal_bc                       all_util \n",
       "                         39717                          39717 \n",
       "              total_rev_hi_lim                         inq_fi \n",
       "                         39717                          39717 \n",
       "                   total_cu_tl                   inq_last_12m \n",
       "                         39717                          39717 \n",
       "          acc_open_past_24mths                    avg_cur_bal \n",
       "                         39717                          39717 \n",
       "                bc_open_to_buy                        bc_util \n",
       "                         39717                          39717 \n",
       "      chargeoff_within_12_mths                    delinq_amnt \n",
       "                            56                              0 \n",
       "            mo_sin_old_il_acct           mo_sin_old_rev_tl_op \n",
       "                         39717                          39717 \n",
       "         mo_sin_rcnt_rev_tl_op                 mo_sin_rcnt_tl \n",
       "                         39717                          39717 \n",
       "                      mort_acc           mths_since_recent_bc \n",
       "                         39717                          39717 \n",
       "      mths_since_recent_bc_dlq          mths_since_recent_inq \n",
       "                         39717                          39717 \n",
       "mths_since_recent_revol_delinq          num_accts_ever_120_pd \n",
       "                         39717                          39717 \n",
       "                num_actv_bc_tl                num_actv_rev_tl \n",
       "                         39717                          39717 \n",
       "                   num_bc_sats                      num_bc_tl \n",
       "                         39717                          39717 \n",
       "                     num_il_tl                  num_op_rev_tl \n",
       "                         39717                          39717 \n",
       "                 num_rev_accts            num_rev_tl_bal_gt_0 \n",
       "                         39717                          39717 \n",
       "                      num_sats               num_tl_120dpd_2m \n",
       "                         39717                          39717 \n",
       "                  num_tl_30dpd             num_tl_90g_dpd_24m \n",
       "                         39717                          39717 \n",
       "            num_tl_op_past_12m                 pct_tl_nvr_dlq \n",
       "                         39717                          39717 \n",
       "              percent_bc_gt_75           pub_rec_bankruptcies \n",
       "                         39717                            697 \n",
       "                     tax_liens                tot_hi_cred_lim \n",
       "                            39                          39717 \n",
       "             total_bal_ex_mort                 total_bc_limit \n",
       "                         39717                          39717 \n",
       "    total_il_high_credit_limit \n",
       "                         39717 "
      ]
     },
     "metadata": {},
     "output_type": "display_data"
    }
   ],
   "source": [
    "# large number of columns are complete NAs\n",
    "colSums(sapply(loan, FUN = function(c) is.na(c)))"
   ]
  },
  {
   "cell_type": "code",
   "execution_count": 27,
   "metadata": {},
   "outputs": [],
   "source": [
    "# removing columns with full NAs\n",
    "loan <- loan %>% select_if(function(c) !all(is.na(c)))\n",
    "\n",
    "# removing columns with 0's\n",
    "loan <- loan %>% select_if(function(c) !all(c == 0, na.rm = T))\n",
    "\n",
    "# removing variables that dont contribute to analysis\n",
    "loan[, c('pymnt_plan', 'url', 'desc', 'initial_list_status', \n",
    "         'application_type', 'emp_title', 'title', 'policy_code')] <- NULL"
   ]
  },
  {
   "cell_type": "code",
   "execution_count": 28,
   "metadata": {},
   "outputs": [],
   "source": [
    "# data type conversions\n",
    "\n",
    "loan$int_rate <- str_remove(loan$int_rate, '%') %>% as.numeric()\n",
    "loan$revol_util <- str_remove(loan$revol_util, '%') %>% as.numeric()\n",
    "\n",
    "loan$issue_d <- parse_date_time(loan$issue_d, orders = 'my')\n",
    "loan$earliest_cr_line <- parse_date_time(loan$earliest_cr_line, orders = 'my')\n",
    "loan$last_pymnt_d <- parse_date_time(loan$last_pymnt_d, orders = 'my')\n",
    "loan$next_pymnt_d <- parse_date_time(loan$next_pymnt_d, orders = 'my')\n",
    "loan$last_credit_pull_d <- parse_date_time(loan$last_credit_pull_d, orders = 'my')\n",
    "\n",
    "# factor variables\n",
    "fact_var <- c('id', 'member_id', 'term', 'grade', 'sub_grade', 'emp_length', 'home_ownership', \n",
    "              'verification_status', 'loan_status', 'purpose', 'inq_last_6mths')\n",
    "\n",
    "loan[,fact_var] <- lapply(loan[,fact_var], FUN = function(c) as.factor(c))"
   ]
  },
  {
   "cell_type": "markdown",
   "metadata": {},
   "source": [
    "### consumer attributes affecting the tendency of default"
   ]
  },
  {
   "cell_type": "code",
   "execution_count": 51,
   "metadata": {},
   "outputs": [],
   "source": [
    "options(repr.plot.width=4, repr.plot.height=3)"
   ]
  },
  {
   "cell_type": "code",
   "execution_count": 30,
   "metadata": {},
   "outputs": [
    {
     "name": "stderr",
     "output_type": "stream",
     "text": [
      "Warning message:\n",
      "\"Removed 7861 rows containing non-finite values (stat_boxplot).\""
     ]
    },
    {
     "data": {},
     "metadata": {},
     "output_type": "display_data"
    },
    {
     "data": {
      "image/png": "[encoded data removed]",
      "text/plain": [
       "plot without title"
      ]
     },
     "metadata": {},
     "output_type": "display_data"
    }
   ],
   "source": [
    "# mean loan_amt of charged off ppl is higher than that of fully paid\n",
    "ggplot(loan, aes(x = loan_status, y = loan_amnt, fill = loan_status)) + geom_boxplot(outlier.shape = NA) +\n",
    "  scale_y_continuous(limits = quantile(loan$loan_amnt, c(0.1, 0.9))) + \n",
    "  geom_hline(yintercept = mean(loan$loan_amnt), col = 'red', lwd = 1.5, linetype = 'dashed')"
   ]
  },
  {
   "cell_type": "code",
   "execution_count": 50,
   "metadata": {},
   "outputs": [
    {
     "data": {
      "text/html": [
       "<table>\n",
       "<thead><tr><th scope=col>emp_length</th><th scope=col>n</th></tr></thead>\n",
       "<tbody>\n",
       "\t<tr><td>10+ years</td><td>1331     </td></tr>\n",
       "\t<tr><td>&lt; 1 year </td><td> 639        </td></tr>\n",
       "\t<tr><td>2 years  </td><td> 567     </td></tr>\n",
       "\t<tr><td>3 years  </td><td> 555     </td></tr>\n",
       "\t<tr><td>4 years  </td><td> 462     </td></tr>\n",
       "\t<tr><td>5 years  </td><td> 458     </td></tr>\n",
       "</tbody>\n",
       "</table>\n"
      ],
      "text/latex": [
       "\\begin{tabular}{r|ll}\n",
       " emp\\_length & n\\\\\n",
       "\\hline\n",
       "\t 10+ years & 1331     \\\\\n",
       "\t < 1 year  &  639     \\\\\n",
       "\t 2 years   &  567     \\\\\n",
       "\t 3 years   &  555     \\\\\n",
       "\t 4 years   &  462     \\\\\n",
       "\t 5 years   &  458     \\\\\n",
       "\\end{tabular}\n"
      ],
      "text/markdown": [
       "\n",
       "emp_length | n | \n",
       "|---|---|---|---|---|---|\n",
       "| 10+ years | 1331      | \n",
       "| < 1 year  |  639      | \n",
       "| 2 years   |  567      | \n",
       "| 3 years   |  555      | \n",
       "| 4 years   |  462      | \n",
       "| 5 years   |  458      | \n",
       "\n",
       "\n"
      ],
      "text/plain": [
       "  emp_length n   \n",
       "1 10+ years  1331\n",
       "2 < 1 year    639\n",
       "3 2 years     567\n",
       "4 3 years     555\n",
       "5 4 years     462\n",
       "6 5 years     458"
      ]
     },
     "metadata": {},
     "output_type": "display_data"
    }
   ],
   "source": [
    "# younger and senior ppl are more likely to default on loan\n",
    "loan %>% filter(loan_status == 'Charged Off') %>%  group_by(emp_length) %>% count() %>% arrange(desc(n)) %>% head()"
   ]
  },
  {
   "cell_type": "code",
   "execution_count": 36,
   "metadata": {},
   "outputs": [
    {
     "name": "stderr",
     "output_type": "stream",
     "text": [
      "Warning message:\n",
      "\"Removed 7861 rows containing non-finite values (stat_boxplot).\""
     ]
    },
    {
     "data": {},
     "metadata": {},
     "output_type": "display_data"
    },
    {
     "data": {
      "image/png": "[encoded data removed]",
      "text/plain": [
       "plot without title"
      ]
     },
     "metadata": {},
     "output_type": "display_data"
    }
   ],
   "source": [
    "# the amount of money ppl default is higher for 'other' loan_status type\n",
    "ggplot(loan, aes(x = loan_status, y = loan_amnt, fill = loan_status)) + geom_boxplot(outlier.shape = NA) +\n",
    "  scale_y_continuous(limits = quantile(loan$loan_amnt, c(0.1, 0.9))) + \n",
    "  geom_hline(yintercept = mean(loan$loan_amnt), col = 'red', lwd = 1.5, linetype = 'dashed') +\n",
    "  facet_grid(home_ownership ~ .)"
   ]
  },
  {
   "cell_type": "code",
   "execution_count": 52,
   "metadata": {},
   "outputs": [
    {
     "name": "stderr",
     "output_type": "stream",
     "text": [
      "Warning message:\n",
      "\"Removed 7745 rows containing non-finite values (stat_boxplot).\""
     ]
    },
    {
     "data": {},
     "metadata": {},
     "output_type": "display_data"
    },
    {
     "data": {
      "image/png": "[encoded data removed]",
      "text/plain": [
       "plot without title"
      ]
     },
     "metadata": {},
     "output_type": "display_data"
    }
   ],
   "source": [
    "# a very strong indication for ppl who default is lower annual incomes\n",
    "ggplot(loan, aes(x = loan_status, y = annual_inc, fill = loan_status)) + geom_boxplot(outlier.shape = NA) +\n",
    "  scale_y_continuous(limits = quantile(loan$annual_inc, c(0.1, 0.9)))"
   ]
  },
  {
   "cell_type": "code",
   "execution_count": 49,
   "metadata": {},
   "outputs": [
    {
     "data": {
      "text/html": [
       "<table>\n",
       "<thead><tr><th scope=col>purpose</th><th scope=col>n</th></tr></thead>\n",
       "<tbody>\n",
       "\t<tr><td>debt_consolidation</td><td>2767              </td></tr>\n",
       "\t<tr><td>other             </td><td> 633              </td></tr>\n",
       "\t<tr><td>credit_card       </td><td> 542              </td></tr>\n",
       "\t<tr><td>small_business    </td><td> 475              </td></tr>\n",
       "\t<tr><td>home_improvement  </td><td> 347              </td></tr>\n",
       "\t<tr><td>major_purchase    </td><td> 222              </td></tr>\n",
       "</tbody>\n",
       "</table>\n"
      ],
      "text/latex": [
       "\\begin{tabular}{r|ll}\n",
       " purpose & n\\\\\n",
       "\\hline\n",
       "\t debt\\_consolidation & 2767                \\\\\n",
       "\t other              &  633              \\\\\n",
       "\t credit\\_card        &  542                \\\\\n",
       "\t small\\_business     &  475                \\\\\n",
       "\t home\\_improvement   &  347                \\\\\n",
       "\t major\\_purchase     &  222                \\\\\n",
       "\\end{tabular}\n"
      ],
      "text/markdown": [
       "\n",
       "purpose | n | \n",
       "|---|---|---|---|---|---|\n",
       "| debt_consolidation | 2767               | \n",
       "| other              |  633               | \n",
       "| credit_card        |  542               | \n",
       "| small_business     |  475               | \n",
       "| home_improvement   |  347               | \n",
       "| major_purchase     |  222               | \n",
       "\n",
       "\n"
      ],
      "text/plain": [
       "  purpose            n   \n",
       "1 debt_consolidation 2767\n",
       "2 other               633\n",
       "3 credit_card         542\n",
       "4 small_business      475\n",
       "5 home_improvement    347\n",
       "6 major_purchase      222"
      ]
     },
     "metadata": {},
     "output_type": "display_data"
    }
   ],
   "source": [
    "# ppl who take laon for debt_consolidation are very much likely to default\n",
    "loan %>% filter(loan_status == 'Charged Off') %>%  group_by(purpose) %>% count() %>% arrange(desc(n)) %>% head()"
   ]
  },
  {
   "cell_type": "code",
   "execution_count": 47,
   "metadata": {},
   "outputs": [
    {
     "data": {
      "text/html": [
       "<table>\n",
       "<thead><tr><th scope=col>zip_code</th><th scope=col>n</th></tr></thead>\n",
       "<tbody>\n",
       "\t<tr><td>945xx</td><td>80   </td></tr>\n",
       "\t<tr><td>917xx</td><td>71   </td></tr>\n",
       "\t<tr><td>100xx</td><td>70   </td></tr>\n",
       "\t<tr><td>331xx</td><td>70   </td></tr>\n",
       "\t<tr><td>926xx</td><td>67   </td></tr>\n",
       "</tbody>\n",
       "</table>\n"
      ],
      "text/latex": [
       "\\begin{tabular}{r|ll}\n",
       " zip\\_code & n\\\\\n",
       "\\hline\n",
       "\t 945xx & 80   \\\\\n",
       "\t 917xx & 71   \\\\\n",
       "\t 100xx & 70   \\\\\n",
       "\t 331xx & 70   \\\\\n",
       "\t 926xx & 67   \\\\\n",
       "\\end{tabular}\n"
      ],
      "text/markdown": [
       "\n",
       "zip_code | n | \n",
       "|---|---|---|---|---|\n",
       "| 945xx | 80    | \n",
       "| 917xx | 71    | \n",
       "| 100xx | 70    | \n",
       "| 331xx | 70    | \n",
       "| 926xx | 67    | \n",
       "\n",
       "\n"
      ],
      "text/plain": [
       "  zip_code n \n",
       "1 945xx    80\n",
       "2 917xx    71\n",
       "3 100xx    70\n",
       "4 331xx    70\n",
       "5 926xx    67"
      ]
     },
     "metadata": {},
     "output_type": "display_data"
    }
   ],
   "source": [
    "\n",
    "# top 15 zipcodes and states where ppl usually default\n",
    "loan %>% filter(loan_status == 'Charged Off') %>%  group_by(zip_code) %>% \n",
    "  count() %>% arrange(desc(n)) %>% head(n = 5)"
   ]
  },
  {
   "cell_type": "code",
   "execution_count": 48,
   "metadata": {},
   "outputs": [
    {
     "data": {
      "text/html": [
       "<table>\n",
       "<thead><tr><th scope=col>addr_state</th><th scope=col>n</th></tr></thead>\n",
       "<tbody>\n",
       "\t<tr><td>CA  </td><td>1125</td></tr>\n",
       "\t<tr><td>FL  </td><td> 504</td></tr>\n",
       "\t<tr><td>NY  </td><td> 495</td></tr>\n",
       "\t<tr><td>TX  </td><td> 316</td></tr>\n",
       "\t<tr><td>NJ  </td><td> 278</td></tr>\n",
       "</tbody>\n",
       "</table>\n"
      ],
      "text/latex": [
       "\\begin{tabular}{r|ll}\n",
       " addr\\_state & n\\\\\n",
       "\\hline\n",
       "\t CA   & 1125\\\\\n",
       "\t FL   &  504\\\\\n",
       "\t NY   &  495\\\\\n",
       "\t TX   &  316\\\\\n",
       "\t NJ   &  278\\\\\n",
       "\\end{tabular}\n"
      ],
      "text/markdown": [
       "\n",
       "addr_state | n | \n",
       "|---|---|---|---|---|\n",
       "| CA   | 1125 | \n",
       "| FL   |  504 | \n",
       "| NY   |  495 | \n",
       "| TX   |  316 | \n",
       "| NJ   |  278 | \n",
       "\n",
       "\n"
      ],
      "text/plain": [
       "  addr_state n   \n",
       "1 CA         1125\n",
       "2 FL          504\n",
       "3 NY          495\n",
       "4 TX          316\n",
       "5 NJ          278"
      ]
     },
     "metadata": {},
     "output_type": "display_data"
    }
   ],
   "source": [
    "# californians are more likely to default on their loans\n",
    "loan %>% filter(loan_status == 'Charged Off') %>%  group_by(addr_state) %>% \n",
    "  count() %>% arrange(desc(n)) %>% head(n = 5)"
   ]
  },
  {
   "cell_type": "code",
   "execution_count": 41,
   "metadata": {},
   "outputs": [
    {
     "name": "stdout",
     "output_type": "stream",
     "text": [
      "# A tibble: 10 x 2\n",
      "# Groups:   loan_status [3]\n",
      "   loan_status open_acc\n",
      "   <fct>          <int>\n",
      " 1 Charged Off       38\n",
      " 2 Charged Off       35\n",
      " 3 Charged Off       34\n",
      " 4 Current           32\n",
      " 5 Current           28\n",
      " 6 Current           25\n",
      " 7 Current           25\n",
      " 8 Fully Paid        44\n",
      " 9 Fully Paid        42\n",
      "10 Fully Paid        41\n"
     ]
    }
   ],
   "source": [
    "# ppl with more than 30 open credit lines are more likely to default\n",
    "loan %>%  select(loan_status, open_acc) %>% group_by(loan_status) %>% \n",
    "  top_n(3, wt = open_acc) %>% arrange(loan_status, desc(open_acc)) %>% print(n = Inf)"
   ]
  },
  {
   "cell_type": "code",
   "execution_count": 42,
   "metadata": {},
   "outputs": [],
   "source": [
    "loan$earliest_cr_line_yr <- year(loan$earliest_cr_line)\n",
    "# fix bcz lubridate converts numbers < 68 to < 2068 instead of < 1968\n",
    "loan[which(loan$earliest_cr_line_yr > 2018), 'earliest_cr_line_yr'] <- \n",
    "  loan[which(loan$earliest_cr_line_yr > 2018), 'earliest_cr_line_yr'] - 100"
   ]
  },
  {
   "cell_type": "code",
   "execution_count": 43,
   "metadata": {},
   "outputs": [],
   "source": [
    "loan_default <- loan %>% filter(loan_status == 'Charged Off')"
   ]
  },
  {
   "cell_type": "code",
   "execution_count": 45,
   "metadata": {},
   "outputs": [
    {
     "data": {
      "text/html": [
       "<table>\n",
       "<thead><tr><th scope=col>earliest_cr_line_yr</th><th scope=col>n</th></tr></thead>\n",
       "<tbody>\n",
       "\t<tr><td>2000</td><td>500 </td></tr>\n",
       "\t<tr><td>1999</td><td>442 </td></tr>\n",
       "\t<tr><td>1998</td><td>415 </td></tr>\n",
       "\t<tr><td>1997</td><td>374 </td></tr>\n",
       "\t<tr><td>2001</td><td>356 </td></tr>\n",
       "\t<tr><td>1995</td><td>303 </td></tr>\n",
       "</tbody>\n",
       "</table>\n"
      ],
      "text/latex": [
       "\\begin{tabular}{r|ll}\n",
       " earliest\\_cr\\_line\\_yr & n\\\\\n",
       "\\hline\n",
       "\t 2000 & 500 \\\\\n",
       "\t 1999 & 442 \\\\\n",
       "\t 1998 & 415 \\\\\n",
       "\t 1997 & 374 \\\\\n",
       "\t 2001 & 356 \\\\\n",
       "\t 1995 & 303 \\\\\n",
       "\\end{tabular}\n"
      ],
      "text/markdown": [
       "\n",
       "earliest_cr_line_yr | n | \n",
       "|---|---|---|---|---|---|\n",
       "| 2000 | 500  | \n",
       "| 1999 | 442  | \n",
       "| 1998 | 415  | \n",
       "| 1997 | 374  | \n",
       "| 2001 | 356  | \n",
       "| 1995 | 303  | \n",
       "\n",
       "\n"
      ],
      "text/plain": [
       "  earliest_cr_line_yr n  \n",
       "1 2000                500\n",
       "2 1999                442\n",
       "3 1998                415\n",
       "4 1997                374\n",
       "5 2001                356\n",
       "6 1995                303"
      ]
     },
     "metadata": {},
     "output_type": "display_data"
    }
   ],
   "source": [
    "# ppl with earliest credit line in 2000, 1999, 1998 are likely to default\n",
    "loan_default %>% group_by(earliest_cr_line_yr) %>% count() %>% arrange(desc(n)) %>% head()"
   ]
  },
  {
   "cell_type": "code",
   "execution_count": 53,
   "metadata": {},
   "outputs": [
    {
     "name": "stderr",
     "output_type": "stream",
     "text": [
      "Warning message:\n",
      "\"Removed 7943 rows containing non-finite values (stat_boxplot).\""
     ]
    },
    {
     "data": {},
     "metadata": {},
     "output_type": "display_data"
    },
    {
     "data": {
      "image/png": "[encoded data removed]",
      "text/plain": [
       "plot without title"
      ]
     },
     "metadata": {},
     "output_type": "display_data"
    }
   ],
   "source": [
    "# loan status vs revol bal\n",
    "ggplot(loan, aes(x = loan_status, y = revol_bal, fill = loan_status))+ geom_boxplot(outlier.shape = NA) +\n",
    "  scale_y_continuous(limits = quantile(loan$revol_bal, c(0.1, 0.9))) +\n",
    "  geom_hline(yintercept = mean(loan$revol_bal, na.rm = T), col = 'red', lwd = 1.5, linetype = 'dashed')"
   ]
  },
  {
   "cell_type": "code",
   "execution_count": 54,
   "metadata": {},
   "outputs": [
    {
     "name": "stderr",
     "output_type": "stream",
     "text": [
      "Warning message:\n",
      "\"Removed 50 rows containing non-finite values (stat_boxplot).\""
     ]
    },
    {
     "data": {},
     "metadata": {},
     "output_type": "display_data"
    },
    {
     "data": {
      "image/png": "[encoded data removed]",
      "text/plain": [
       "plot without title"
      ]
     },
     "metadata": {},
     "output_type": "display_data"
    }
   ],
   "source": [
    "# ppl who default tend to utilise majority of their revol bal\n",
    "ggplot(loan, aes(x = loan_status, y = revol_util, fill = loan_status)) + geom_boxplot() +\n",
    "  geom_hline(yintercept = mean(loan$revol_util, na.rm = T), col = 'red', lwd = 1.5, linetype = 'dashed')"
   ]
  },
  {
   "cell_type": "markdown",
   "metadata": {},
   "source": [
    "### loan attributes"
   ]
  },
  {
   "cell_type": "code",
   "execution_count": 55,
   "metadata": {},
   "outputs": [
    {
     "data": {},
     "metadata": {},
     "output_type": "display_data"
    },
    {
     "data": {
      "image/png": "[encoded data removed]",
      "text/plain": [
       "plot without title"
      ]
     },
     "metadata": {},
     "output_type": "display_data"
    }
   ],
   "source": [
    "# contrary to our belief, ppl with low terms are likely to default\n",
    "ggplot(loan_default, aes(x = term, fill = term)) + geom_bar() "
   ]
  },
  {
   "cell_type": "code",
   "execution_count": 56,
   "metadata": {},
   "outputs": [
    {
     "data": {
      "text/html": [
       "<table>\n",
       "<thead><tr><th scope=col>loan_status</th><th scope=col>avg_int</th></tr></thead>\n",
       "<tbody>\n",
       "\t<tr><td>Charged Off</td><td>13.82043   </td></tr>\n",
       "\t<tr><td>Current    </td><td>15.03146   </td></tr>\n",
       "\t<tr><td>Fully Paid </td><td>11.60976   </td></tr>\n",
       "</tbody>\n",
       "</table>\n"
      ],
      "text/latex": [
       "\\begin{tabular}{r|ll}\n",
       " loan\\_status & avg\\_int\\\\\n",
       "\\hline\n",
       "\t Charged Off & 13.82043   \\\\\n",
       "\t Current     & 15.03146   \\\\\n",
       "\t Fully Paid  & 11.60976   \\\\\n",
       "\\end{tabular}\n"
      ],
      "text/markdown": [
       "\n",
       "loan_status | avg_int | \n",
       "|---|---|---|\n",
       "| Charged Off | 13.82043    | \n",
       "| Current     | 15.03146    | \n",
       "| Fully Paid  | 11.60976    | \n",
       "\n",
       "\n"
      ],
      "text/plain": [
       "  loan_status avg_int \n",
       "1 Charged Off 13.82043\n",
       "2 Current     15.03146\n",
       "3 Fully Paid  11.60976"
      ]
     },
     "metadata": {},
     "output_type": "display_data"
    }
   ],
   "source": [
    "# interes rate for defaulters is higher\n",
    "loan %>% group_by(loan_status) %>% summarise(avg_int = mean(int_rate))"
   ]
  },
  {
   "cell_type": "code",
   "execution_count": 58,
   "metadata": {},
   "outputs": [
    {
     "data": {},
     "metadata": {},
     "output_type": "display_data"
    },
    {
     "data": {
      "image/png": "[encoded data removed]",
      "text/plain": [
       "plot without title"
      ]
     },
     "metadata": {},
     "output_type": "display_data"
    }
   ],
   "source": [
    "# ppl with B, C, D grades are likey to default\n",
    "loan_default %>% ggplot(aes(x = grade, fill = grade)) + geom_bar() + facet_grid(loan_status ~ .)"
   ]
  },
  {
   "cell_type": "code",
   "execution_count": 59,
   "metadata": {},
   "outputs": [
    {
     "data": {
      "text/html": [
       "<table>\n",
       "<thead><tr><th scope=col>verification_status</th><th scope=col>n</th></tr></thead>\n",
       "<tbody>\n",
       "\t<tr><td>Not Verified   </td><td>2142           </td></tr>\n",
       "\t<tr><td>Source Verified</td><td>1434           </td></tr>\n",
       "\t<tr><td>Verified       </td><td>2051           </td></tr>\n",
       "</tbody>\n",
       "</table>\n"
      ],
      "text/latex": [
       "\\begin{tabular}{r|ll}\n",
       " verification\\_status & n\\\\\n",
       "\\hline\n",
       "\t Not Verified    & 2142           \\\\\n",
       "\t Source Verified & 1434           \\\\\n",
       "\t Verified        & 2051           \\\\\n",
       "\\end{tabular}\n"
      ],
      "text/markdown": [
       "\n",
       "verification_status | n | \n",
       "|---|---|---|\n",
       "| Not Verified    | 2142            | \n",
       "| Source Verified | 1434            | \n",
       "| Verified        | 2051            | \n",
       "\n",
       "\n"
      ],
      "text/plain": [
       "  verification_status n   \n",
       "1 Not Verified        2142\n",
       "2 Source Verified     1434\n",
       "3 Verified            2051"
      ]
     },
     "metadata": {},
     "output_type": "display_data"
    }
   ],
   "source": [
    "# majority of defaulters source has not been verified\n",
    "loan_default %>% group_by(verification_status) %>% count()"
   ]
  },
  {
   "cell_type": "code",
   "execution_count": 60,
   "metadata": {},
   "outputs": [
    {
     "data": {},
     "metadata": {},
     "output_type": "display_data"
    },
    {
     "data": {
      "image/png": "[encoded data removed]",
      "text/plain": [
       "plot without title"
      ]
     },
     "metadata": {},
     "output_type": "display_data"
    }
   ],
   "source": [
    "# lesser dti is preferable but defaulters have higher dti vs non-defaulters\n",
    "loan %>% ggplot(aes(x = loan_status, y = dti, fill = loan_status)) + geom_boxplot()"
   ]
  },
  {
   "cell_type": "code",
   "execution_count": null,
   "metadata": {},
   "outputs": [],
   "source": []
  }
 ],
 "metadata": {
  "kernelspec": {
   "display_name": "R",
   "language": "R",
   "name": "ir"
  },
  "language_info": {
   "codemirror_mode": "r",
   "file_extension": ".r",
   "mimetype": "text/x-r-source",
   "name": "R",
   "pygments_lexer": "r",
   "version": "3.4.3"
  }
 },
 "nbformat": 4,
 "nbformat_minor": 2
}
