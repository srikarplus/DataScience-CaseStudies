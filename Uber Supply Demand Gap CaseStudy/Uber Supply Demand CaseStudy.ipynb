{
 "cells": [
  {
   "cell_type": "code",
   "execution_count": 2,
   "metadata": {},
   "outputs": [],
   "source": [
    "library(readr)\n",
    "library(lubridate)\n",
    "library(chron)\n",
    "library(dplyr)\n",
    "library(stringr)\n",
    "library(ggplot2)"
   ]
  },
  {
   "cell_type": "code",
   "execution_count": 3,
   "metadata": {},
   "outputs": [
    {
     "name": "stderr",
     "output_type": "stream",
     "text": [
      "Parsed with column specification:\n",
      "cols(\n",
      "  `Request id` = col_integer(),\n",
      "  `Pickup point` = col_character(),\n",
      "  `Driver id` = col_integer(),\n",
      "  Status = col_character(),\n",
      "  `Request timestamp` = col_character(),\n",
      "  `Drop timestamp` = col_character()\n",
      ")\n"
     ]
    },
    {
     "data": {
      "text/html": [
       "<table>\n",
       "<thead><tr><th scope=col>Request id</th><th scope=col>Pickup point</th><th scope=col>Driver id</th><th scope=col>Status</th><th scope=col>Request timestamp</th><th scope=col>Drop timestamp</th></tr></thead>\n",
       "<tbody>\n",
       "\t<tr><td> 619               </td><td>Airport            </td><td>1                  </td><td>Trip Completed     </td><td>11/7/2016 11:51    </td><td>11/7/2016 13:00    </td></tr>\n",
       "\t<tr><td> 867               </td><td>Airport            </td><td>1                  </td><td>Trip Completed     </td><td>11/7/2016 17:57    </td><td>11/7/2016 18:47    </td></tr>\n",
       "\t<tr><td>1807               </td><td>City               </td><td>1                  </td><td>Trip Completed     </td><td>12/7/2016 9:17     </td><td>12/7/2016 9:58     </td></tr>\n",
       "\t<tr><td>2532               </td><td>Airport            </td><td>1                  </td><td>Trip Completed     </td><td>12/7/2016 21:08    </td><td>12/7/2016 22:03    </td></tr>\n",
       "\t<tr><td>3112               </td><td>City               </td><td>1                  </td><td>Trip Completed     </td><td>13-07-2016 08:33:16</td><td>13-07-2016 09:25:47</td></tr>\n",
       "\t<tr><td>3879               </td><td>Airport            </td><td>1                  </td><td>Trip Completed     </td><td>13-07-2016 21:57:28</td><td>13-07-2016 22:28:59</td></tr>\n",
       "</tbody>\n",
       "</table>\n"
      ],
      "text/latex": [
       "\\begin{tabular}{r|llllll}\n",
       " Request id & Pickup point & Driver id & Status & Request timestamp & Drop timestamp\\\\\n",
       "\\hline\n",
       "\t  619                & Airport             & 1                   & Trip Completed      & 11/7/2016 11:51     & 11/7/2016 13:00    \\\\\n",
       "\t  867                & Airport             & 1                   & Trip Completed      & 11/7/2016 17:57     & 11/7/2016 18:47    \\\\\n",
       "\t 1807                & City                & 1                   & Trip Completed      & 12/7/2016 9:17      & 12/7/2016 9:58     \\\\\n",
       "\t 2532                & Airport             & 1                   & Trip Completed      & 12/7/2016 21:08     & 12/7/2016 22:03    \\\\\n",
       "\t 3112                & City                & 1                   & Trip Completed      & 13-07-2016 08:33:16 & 13-07-2016 09:25:47\\\\\n",
       "\t 3879                & Airport             & 1                   & Trip Completed      & 13-07-2016 21:57:28 & 13-07-2016 22:28:59\\\\\n",
       "\\end{tabular}\n"
      ],
      "text/markdown": [
       "\n",
       "Request id | Pickup point | Driver id | Status | Request timestamp | Drop timestamp | \n",
       "|---|---|---|---|---|---|\n",
       "|  619                | Airport             | 1                   | Trip Completed      | 11/7/2016 11:51     | 11/7/2016 13:00     | \n",
       "|  867                | Airport             | 1                   | Trip Completed      | 11/7/2016 17:57     | 11/7/2016 18:47     | \n",
       "| 1807                | City                | 1                   | Trip Completed      | 12/7/2016 9:17      | 12/7/2016 9:58      | \n",
       "| 2532                | Airport             | 1                   | Trip Completed      | 12/7/2016 21:08     | 12/7/2016 22:03     | \n",
       "| 3112                | City                | 1                   | Trip Completed      | 13-07-2016 08:33:16 | 13-07-2016 09:25:47 | \n",
       "| 3879                | Airport             | 1                   | Trip Completed      | 13-07-2016 21:57:28 | 13-07-2016 22:28:59 | \n",
       "\n",
       "\n"
      ],
      "text/plain": [
       "  Request id Pickup point Driver id Status         Request timestamp  \n",
       "1  619       Airport      1         Trip Completed 11/7/2016 11:51    \n",
       "2  867       Airport      1         Trip Completed 11/7/2016 17:57    \n",
       "3 1807       City         1         Trip Completed 12/7/2016 9:17     \n",
       "4 2532       Airport      1         Trip Completed 12/7/2016 21:08    \n",
       "5 3112       City         1         Trip Completed 13-07-2016 08:33:16\n",
       "6 3879       Airport      1         Trip Completed 13-07-2016 21:57:28\n",
       "  Drop timestamp     \n",
       "1 11/7/2016 13:00    \n",
       "2 11/7/2016 18:47    \n",
       "3 12/7/2016 9:58     \n",
       "4 12/7/2016 22:03    \n",
       "5 13-07-2016 09:25:47\n",
       "6 13-07-2016 22:28:59"
      ]
     },
     "metadata": {},
     "output_type": "display_data"
    }
   ],
   "source": [
    "uber <- read_csv('Uber Request Data.csv')\n",
    "head(uber)"
   ]
  },
  {
   "cell_type": "code",
   "execution_count": 4,
   "metadata": {},
   "outputs": [],
   "source": [
    "# converting date from character to dttm format\n",
    "uber$`Request timestamp` <- parse_date_time(uber$`Request timestamp`, orders = c('dmy HM', 'dmy HMS'))\n",
    "uber$`Drop timestamp` <- parse_date_time(uber$`Drop timestamp`, orders = c('dmy HM', 'dmy HMS'))"
   ]
  },
  {
   "cell_type": "code",
   "execution_count": 5,
   "metadata": {},
   "outputs": [
    {
     "data": {
      "text/html": [
       "<dl class=dl-horizontal>\n",
       "\t<dt>Request id</dt>\n",
       "\t\t<dd>0</dd>\n",
       "\t<dt>Pickup point</dt>\n",
       "\t\t<dd>0</dd>\n",
       "\t<dt>Driver id</dt>\n",
       "\t\t<dd>2650</dd>\n",
       "\t<dt>Status</dt>\n",
       "\t\t<dd>0</dd>\n",
       "\t<dt>Request timestamp</dt>\n",
       "\t\t<dd>0</dd>\n",
       "\t<dt>Drop timestamp</dt>\n",
       "\t\t<dd>3914</dd>\n",
       "</dl>\n"
      ],
      "text/latex": [
       "\\begin{description*}\n",
       "\\item[Request id] 0\n",
       "\\item[Pickup point] 0\n",
       "\\item[Driver id] 2650\n",
       "\\item[Status] 0\n",
       "\\item[Request timestamp] 0\n",
       "\\item[Drop timestamp] 3914\n",
       "\\end{description*}\n"
      ],
      "text/markdown": [
       "Request id\n",
       ":   0Pickup point\n",
       ":   0Driver id\n",
       ":   2650Status\n",
       ":   0Request timestamp\n",
       ":   0Drop timestamp\n",
       ":   3914\n",
       "\n"
      ],
      "text/plain": [
       "       Request id      Pickup point         Driver id            Status \n",
       "                0                 0              2650                 0 \n",
       "Request timestamp    Drop timestamp \n",
       "                0              3914 "
      ]
     },
     "metadata": {},
     "output_type": "display_data"
    }
   ],
   "source": [
    "# checking for missing values\n",
    "colSums(sapply(uber, FUN = function(c) is.na(c)))"
   ]
  },
  {
   "cell_type": "markdown",
   "metadata": {},
   "source": [
    "Here NAs are not missing at random. The NAs in driver id field indicate cabs are unavailable  \n",
    "and those in Drop timestamp indicate the cabs unavailable + request cab drivers cancelled"
   ]
  },
  {
   "cell_type": "code",
   "execution_count": 6,
   "metadata": {},
   "outputs": [],
   "source": [
    "#change column names\n",
    "colnames(uber) <- str_replace_all(colnames(uber), ' ', '_')"
   ]
  },
  {
   "cell_type": "code",
   "execution_count": 7,
   "metadata": {},
   "outputs": [
    {
     "data": {
      "text/html": [
       "0"
      ],
      "text/latex": [
       "0"
      ],
      "text/markdown": [
       "0"
      ],
      "text/plain": [
       "[1] 0"
      ]
     },
     "metadata": {},
     "output_type": "display_data"
    }
   ],
   "source": [
    "# number of weekends is 0 means that we have weekdays only data\n",
    "sum(is.weekend(uber$Request_timestamp))"
   ]
  },
  {
   "cell_type": "code",
   "execution_count": 8,
   "metadata": {},
   "outputs": [
    {
     "data": {
      "text/html": [
       "<table>\n",
       "<thead><tr><th scope=col>Status</th><th scope=col>n</th></tr></thead>\n",
       "<tbody>\n",
       "\t<tr><td>Cancelled        </td><td>1264             </td></tr>\n",
       "\t<tr><td>No Cars Available</td><td>2650             </td></tr>\n",
       "\t<tr><td>Trip Completed   </td><td>2831             </td></tr>\n",
       "</tbody>\n",
       "</table>\n"
      ],
      "text/latex": [
       "\\begin{tabular}{r|ll}\n",
       " Status & n\\\\\n",
       "\\hline\n",
       "\t Cancelled         & 1264             \\\\\n",
       "\t No Cars Available & 2650             \\\\\n",
       "\t Trip Completed    & 2831             \\\\\n",
       "\\end{tabular}\n"
      ],
      "text/markdown": [
       "\n",
       "Status | n | \n",
       "|---|---|---|\n",
       "| Cancelled         | 1264              | \n",
       "| No Cars Available | 2650              | \n",
       "| Trip Completed    | 2831              | \n",
       "\n",
       "\n"
      ],
      "text/plain": [
       "  Status            n   \n",
       "1 Cancelled         1264\n",
       "2 No Cars Available 2650\n",
       "3 Trip Completed    2831"
      ]
     },
     "metadata": {},
     "output_type": "display_data"
    }
   ],
   "source": [
    "# cab request status\n",
    "uber %>% group_by(Status) %>% count()"
   ]
  },
  {
   "cell_type": "code",
   "execution_count": 9,
   "metadata": {},
   "outputs": [],
   "source": [
    "# creating time_slots \n",
    "time_slots <- function(d){\n",
    "  temp <- hour(d)\n",
    "  if(temp >= 0 & temp <= 4){\n",
    "    c('early_morning')\n",
    "  }else if(temp > 4 & temp < 12){\n",
    "    c('morning')\n",
    "  }else if(temp >= 12 & temp < 16){\n",
    "    c('afternoon')\n",
    "  }else if(temp >= 16 & temp <= 20){\n",
    "    c('evening')\n",
    "  }else if(temp > 20 ){\n",
    "    c('late_evening')\n",
    "  }\n",
    "}\n",
    "\n",
    "uber$time_slot <- sapply(uber$Request_timestamp, FUN = time_slots) %>% as.character"
   ]
  },
  {
   "cell_type": "code",
   "execution_count": 10,
   "metadata": {},
   "outputs": [],
   "source": [
    "# creating factor variable\n",
    "uber$Pickup_point <- factor(uber$Pickup_point)\n",
    "uber$Status <- factor(uber$Status)\n",
    "uber$time_slot <- factor(uber$time_slot)"
   ]
  },
  {
   "cell_type": "code",
   "execution_count": 21,
   "metadata": {},
   "outputs": [],
   "source": [
    "# resizing fig size\n",
    "options(repr.plot.width=10, repr.plot.height=5)"
   ]
  },
  {
   "cell_type": "code",
   "execution_count": 17,
   "metadata": {},
   "outputs": [
    {
     "data": {},
     "metadata": {},
     "output_type": "display_data"
    },
    {
     "data": {
      "image/png": "[encoded data removed]",
      "text/plain": [
       "plot without title"
      ]
     },
     "metadata": {},
     "output_type": "display_data"
    }
   ],
   "source": [
    "# city to airport trips are slightly higher than aiport to city\n",
    "uber %>% ggplot(aes(x = Pickup_point, fill = Pickup_point)) + geom_bar()"
   ]
  },
  {
   "cell_type": "code",
   "execution_count": 18,
   "metadata": {},
   "outputs": [
    {
     "data": {},
     "metadata": {},
     "output_type": "display_data"
    },
    {
     "data": {
      "image/png": "[encoded data removed]",
      "text/plain": [
       "plot without title"
      ]
     },
     "metadata": {},
     "output_type": "display_data"
    }
   ],
   "source": [
    "# significant amount of cabs are not available. Also considerable amoutn of cabs are cancelled\n",
    "uber %>% ggplot(aes(x = Status, fill = Status)) + geom_bar()"
   ]
  },
  {
   "cell_type": "code",
   "execution_count": 19,
   "metadata": {},
   "outputs": [
    {
     "data": {},
     "metadata": {},
     "output_type": "display_data"
    },
    {
     "data": {
      "image/png": "[encoded data removed]",
      "text/plain": [
       "plot without title"
      ]
     },
     "metadata": {},
     "output_type": "display_data"
    }
   ],
   "source": [
    "# more cabs are not available at the airport\n",
    "# this might be because less number of cabs are entering the airport due to cancellations in the city\n",
    "# more drivers are not willing to travel to the airport\n",
    "uber %>% ggplot(aes(x = Status, fill = Status)) + geom_bar() + facet_grid(Pickup_point~.)"
   ]
  },
  {
   "cell_type": "code",
   "execution_count": 22,
   "metadata": {},
   "outputs": [
    {
     "data": {},
     "metadata": {},
     "output_type": "display_data"
    },
    {
     "data": {
      "image/png": "[encoded data removed]",
      "text/plain": [
       "plot without title"
      ]
     },
     "metadata": {},
     "output_type": "display_data"
    }
   ],
   "source": [
    "# cabs are getting cancellied in the morining\n",
    "# also more cabs are not available in the evening\n",
    "uber %>% ggplot(aes(x = Status, fill = Status)) + geom_bar() + facet_grid(time_slot~.)\n"
   ]
  },
  {
   "cell_type": "code",
   "execution_count": 23,
   "metadata": {},
   "outputs": [
    {
     "data": {},
     "metadata": {},
     "output_type": "display_data"
    },
    {
     "data": {
      "image/png": "[encoded data removed]",
      "text/plain": [
       "plot without title"
      ]
     },
     "metadata": {},
     "output_type": "display_data"
    }
   ],
   "source": [
    "# as expected drivers dont want airport trips in the morning\n",
    "# since less cabs travel to airport in the morning, more cabs are unavailble in the evening at airport\n",
    "uber %>% ggplot(aes(x = Status, fill = Status)) + geom_bar() + facet_grid(time_slot~Pickup_point)"
   ]
  },
  {
   "cell_type": "code",
   "execution_count": 24,
   "metadata": {},
   "outputs": [
    {
     "data": {
      "text/html": [
       "<table>\n",
       "<thead><tr><th scope=col>Driver_id</th><th scope=col>n</th></tr></thead>\n",
       "<tbody>\n",
       "\t<tr><td> 84</td><td>11 </td></tr>\n",
       "\t<tr><td> 54</td><td>10 </td></tr>\n",
       "\t<tr><td>142</td><td>10 </td></tr>\n",
       "\t<tr><td> 27</td><td> 8 </td></tr>\n",
       "\t<tr><td>131</td><td> 8 </td></tr>\n",
       "\t<tr><td>177</td><td> 8 </td></tr>\n",
       "\t<tr><td>206</td><td> 8 </td></tr>\n",
       "\t<tr><td> 44</td><td> 7 </td></tr>\n",
       "\t<tr><td> 70</td><td> 7 </td></tr>\n",
       "\t<tr><td>114</td><td> 7 </td></tr>\n",
       "</tbody>\n",
       "</table>\n"
      ],
      "text/latex": [
       "\\begin{tabular}{r|ll}\n",
       " Driver\\_id & n\\\\\n",
       "\\hline\n",
       "\t  84 & 11 \\\\\n",
       "\t  54 & 10 \\\\\n",
       "\t 142 & 10 \\\\\n",
       "\t  27 &  8 \\\\\n",
       "\t 131 &  8 \\\\\n",
       "\t 177 &  8 \\\\\n",
       "\t 206 &  8 \\\\\n",
       "\t  44 &  7 \\\\\n",
       "\t  70 &  7 \\\\\n",
       "\t 114 &  7 \\\\\n",
       "\\end{tabular}\n"
      ],
      "text/markdown": [
       "\n",
       "Driver_id | n | \n",
       "|---|---|---|---|---|---|---|---|---|---|\n",
       "|  84 | 11  | \n",
       "|  54 | 10  | \n",
       "| 142 | 10  | \n",
       "|  27 |  8  | \n",
       "| 131 |  8  | \n",
       "| 177 |  8  | \n",
       "| 206 |  8  | \n",
       "|  44 |  7  | \n",
       "|  70 |  7  | \n",
       "| 114 |  7  | \n",
       "\n",
       "\n"
      ],
      "text/plain": [
       "   Driver_id n \n",
       "1   84       11\n",
       "2   54       10\n",
       "3  142       10\n",
       "4   27        8\n",
       "5  131        8\n",
       "6  177        8\n",
       "7  206        8\n",
       "8   44        7\n",
       "9   70        7\n",
       "10 114        7"
      ]
     },
     "metadata": {},
     "output_type": "display_data"
    }
   ],
   "source": [
    "# drives with more number of cancelled airport trips\n",
    "uber %>% filter(Status == 'Cancelled', Pickup_point == 'City') %>% \n",
    "  group_by(Driver_id) %>% count() %>% arrange(desc(n)) %>% head(n = 10)"
   ]
  },
  {
   "cell_type": "code",
   "execution_count": 25,
   "metadata": {},
   "outputs": [
    {
     "data": {},
     "metadata": {},
     "output_type": "display_data"
    },
    {
     "data": {
      "image/png": "[encoded data removed]",
      "text/plain": [
       "plot without title"
      ]
     },
     "metadata": {},
     "output_type": "display_data"
    }
   ],
   "source": [
    "# in the morning more people travel to airport and in the evening more ppl travel to city\n",
    "uber %>% ggplot(aes(x = hour(Request_timestamp))) + geom_bar() + facet_grid(Pickup_point~.)"
   ]
  },
  {
   "cell_type": "code",
   "execution_count": 26,
   "metadata": {},
   "outputs": [
    {
     "data": {},
     "metadata": {},
     "output_type": "display_data"
    },
    {
     "data": {
      "image/png": "[encoded data removed]",
      "text/plain": [
       "plot without title"
      ]
     },
     "metadata": {},
     "output_type": "display_data"
    }
   ],
   "source": [
    "# though in the morining more people are willing to travel to airport\n",
    "# most of those requests are cancelled by the cab drivers\n",
    "uber %>% filter(Pickup_point == 'City') %>% ggplot(aes(x = hour(Request_timestamp))) + geom_bar() +\n",
    "  facet_grid(Status~.)"
   ]
  },
  {
   "cell_type": "code",
   "execution_count": 27,
   "metadata": {},
   "outputs": [
    {
     "data": {},
     "metadata": {},
     "output_type": "display_data"
    },
    {
     "data": {
      "image/png": "[encoded data removed]",
      "text/plain": [
       "plot without title"
      ]
     },
     "metadata": {},
     "output_type": "display_data"
    }
   ],
   "source": [
    "# as expected very few drivers reject the City trips. Also due to heavy footfall at the airport\n",
    "# in the evenings more cabs are not available\n",
    "uber %>% filter(Pickup_point == 'Airport') %>% ggplot(aes(x = hour(Request_timestamp))) + geom_bar() +\n",
    "  facet_grid(Status~.)"
   ]
  },
  {
   "cell_type": "code",
   "execution_count": 28,
   "metadata": {},
   "outputs": [],
   "source": [
    "# amount of time taken by cab rides\n",
    "uber$ride_time <- uber$Drop_timestamp - uber$Request_timestamp\n",
    "uber$ride_time <- round(uber$ride_time)"
   ]
  },
  {
   "cell_type": "code",
   "execution_count": 33,
   "metadata": {},
   "outputs": [
    {
     "name": "stderr",
     "output_type": "stream",
     "text": [
      "Warning message:\n",
      "\"Removed 3914 rows containing non-finite values (stat_boxplot).\""
     ]
    },
    {
     "data": {},
     "metadata": {},
     "output_type": "display_data"
    },
    {
     "data": {
      "image/png": "[encoded data removed]",
      "text/plain": [
       "plot without title"
      ]
     },
     "metadata": {},
     "output_type": "display_data"
    }
   ],
   "source": [
    "# mean ride time from city to airport is slightly higher\n",
    "uber %>% ggplot(aes(x = Pickup_point, y = ride_time, fill = Pickup_point)) + geom_boxplot() +\n",
    "  scale_y_continuous() +  geom_hline(yintercept = mean(uber$ride_time, na.rm = T), col = 'red', lwd = 0.75, linetype = 'dashed')"
   ]
  },
  {
   "cell_type": "code",
   "execution_count": null,
   "metadata": {},
   "outputs": [],
   "source": []
  }
 ],
 "metadata": {
  "kernelspec": {
   "display_name": "R",
   "language": "R",
   "name": "ir"
  },
  "language_info": {
   "codemirror_mode": "r",
   "file_extension": ".r",
   "mimetype": "text/x-r-source",
   "name": "R",
   "pygments_lexer": "r",
   "version": "3.4.3"
  }
 },
 "nbformat": 4,
 "nbformat_minor": 2
}
