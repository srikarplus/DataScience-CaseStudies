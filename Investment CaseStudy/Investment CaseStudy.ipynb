{
 "cells": [
  {
   "cell_type": "code",
   "execution_count": 61,
   "metadata": {},
   "outputs": [],
   "source": [
    "library(stringr)\n",
    "library(dplyr)\n",
    "library(tidyr)"
   ]
  },
  {
   "cell_type": "markdown",
   "metadata": {},
   "source": [
    "use read.delim to read tab separated files and read.csv for comma separated files"
   ]
  },
  {
   "cell_type": "code",
   "execution_count": 62,
   "metadata": {},
   "outputs": [],
   "source": [
    "companies <- read.delim('companies.txt', stringsAsFactors = F)\n",
    "rounds2 <- read.csv('rounds2.csv', stringsAsFactors = F)"
   ]
  },
  {
   "cell_type": "code",
   "execution_count": 63,
   "metadata": {},
   "outputs": [
    {
     "data": {
      "text/html": [
       "<table>\n",
       "<thead><tr><th scope=col>permalink</th><th scope=col>name</th><th scope=col>homepage_url</th><th scope=col>category_list</th><th scope=col>status</th><th scope=col>country_code</th><th scope=col>state_code</th><th scope=col>region</th><th scope=col>city</th><th scope=col>founded_at</th></tr></thead>\n",
       "<tbody>\n",
       "\t<tr><td>/Organization/-Fame                                 </td><td>#fame                                               </td><td>http://livfame.com                                  </td><td>Media                                               </td><td>operating                                           </td><td>IND                                                 </td><td>16                                                  </td><td>Mumbai                                              </td><td>Mumbai                                              </td><td>                                                    </td></tr>\n",
       "\t<tr><td>/Organization/-Qounter                              </td><td>:Qounter                                            </td><td>http://www.qounter.com                              </td><td>Application Platforms|Real Time|Social Network Media</td><td>operating                                           </td><td>USA                                                 </td><td>DE                                                  </td><td>DE - Other                                          </td><td>Delaware City                                       </td><td>04-09-2014                                          </td></tr>\n",
       "\t<tr><td>/Organization/-The-One-Of-Them-Inc-                 </td><td>(THE) ONE of THEM,Inc.                              </td><td>http://oneofthem.jp                                 </td><td>Apps|Games|Mobile                                   </td><td>operating                                           </td><td>                                                    </td><td>                                                    </td><td>                                                    </td><td>                                                    </td><td>                                                    </td></tr>\n",
       "\t<tr><td>/Organization/0-6-Com                               </td><td>0-6.com                                             </td><td>http://www.0-6.com                                  </td><td>Curated Web                                         </td><td>operating                                           </td><td>CHN                                                 </td><td>22                                                  </td><td>Beijing                                             </td><td>Beijing                                             </td><td>01-01-2007                                          </td></tr>\n",
       "\t<tr><td>/Organization/004-Technologies                      </td><td>004 Technologies                                    </td><td>http://004gmbh.de/en/004-interact                   </td><td>Software                                            </td><td>operating                                           </td><td>USA                                                 </td><td>IL                                                  </td><td>Springfield, Illinois                               </td><td>Champaign                                           </td><td>01-01-2010                                          </td></tr>\n",
       "\t<tr><td>/Organization/01Games-Technology                    </td><td>01Games Technology                                  </td><td>http://www.01games.hk/                              </td><td>Games                                               </td><td>operating                                           </td><td>HKG                                                 </td><td>                                                    </td><td>Hong Kong                                           </td><td>Hong Kong                                           </td><td>                                                    </td></tr>\n",
       "</tbody>\n",
       "</table>\n"
      ],
      "text/latex": [
       "\\begin{tabular}{r|llllllllll}\n",
       " permalink & name & homepage\\_url & category\\_list & status & country\\_code & state\\_code & region & city & founded\\_at\\\\\n",
       "\\hline\n",
       "\t /Organization/-Fame                                  & \\#fame                                              & http://livfame.com                                   & Media                                                & operating                                            & IND                                                  & 16                                                   & Mumbai                                               & Mumbai                                               &                                                     \\\\\n",
       "\t /Organization/-Qounter                                                   & :Qounter                                                                 & http://www.qounter.com                                                   & Application Platforms\\textbar{}Real Time\\textbar{}Social Network Media & operating                                                                & USA                                                                      & DE                                                                       & DE - Other                                                               & Delaware City                                                            & 04-09-2014                                                              \\\\\n",
       "\t /Organization/-The-One-Of-Them-Inc-                                      & (THE) ONE of THEM,Inc.                                                   & http://oneofthem.jp                                                      & Apps\\textbar{}Games\\textbar{}Mobile                                    & operating                                                                &                                                                          &                                                                          &                                                                          &                                                                          &                                                                         \\\\\n",
       "\t /Organization/0-6-Com                                & 0-6.com                                              & http://www.0-6.com                                   & Curated Web                                          & operating                                            & CHN                                                  & 22                                                   & Beijing                                              & Beijing                                              & 01-01-2007                                          \\\\\n",
       "\t /Organization/004-Technologies                       & 004 Technologies                                     & http://004gmbh.de/en/004-interact                    & Software                                             & operating                                            & USA                                                  & IL                                                   & Springfield, Illinois                                & Champaign                                            & 01-01-2010                                          \\\\\n",
       "\t /Organization/01Games-Technology                     & 01Games Technology                                   & http://www.01games.hk/                               & Games                                                & operating                                            & HKG                                                  &                                                      & Hong Kong                                            & Hong Kong                                            &                                                     \\\\\n",
       "\\end{tabular}\n"
      ],
      "text/markdown": [
       "\n",
       "permalink | name | homepage_url | category_list | status | country_code | state_code | region | city | founded_at | \n",
       "|---|---|---|---|---|---|\n",
       "| /Organization/-Fame                                  | #fame                                                | http://livfame.com                                   | Media                                                | operating                                            | IND                                                  | 16                                                   | Mumbai                                               | Mumbai                                               |                                                      | \n",
       "| /Organization/-Qounter                               | :Qounter                                             | http://www.qounter.com                               | Application Platforms|Real Time|Social Network Media | operating                                            | USA                                                  | DE                                                   | DE - Other                                           | Delaware City                                        | 04-09-2014                                           | \n",
       "| /Organization/-The-One-Of-Them-Inc-                  | (THE) ONE of THEM,Inc.                               | http://oneofthem.jp                                  | Apps|Games|Mobile                                    | operating                                            |                                                      |                                                      |                                                      |                                                      |                                                      | \n",
       "| /Organization/0-6-Com                                | 0-6.com                                              | http://www.0-6.com                                   | Curated Web                                          | operating                                            | CHN                                                  | 22                                                   | Beijing                                              | Beijing                                              | 01-01-2007                                           | \n",
       "| /Organization/004-Technologies                       | 004 Technologies                                     | http://004gmbh.de/en/004-interact                    | Software                                             | operating                                            | USA                                                  | IL                                                   | Springfield, Illinois                                | Champaign                                            | 01-01-2010                                           | \n",
       "| /Organization/01Games-Technology                     | 01Games Technology                                   | http://www.01games.hk/                               | Games                                                | operating                                            | HKG                                                  |                                                      | Hong Kong                                            | Hong Kong                                            |                                                      | \n",
       "\n",
       "\n"
      ],
      "text/plain": [
       "  permalink                           name                  \n",
       "1 /Organization/-Fame                 #fame                 \n",
       "2 /Organization/-Qounter              :Qounter              \n",
       "3 /Organization/-The-One-Of-Them-Inc- (THE) ONE of THEM,Inc.\n",
       "4 /Organization/0-6-Com               0-6.com               \n",
       "5 /Organization/004-Technologies      004 Technologies      \n",
       "6 /Organization/01Games-Technology    01Games Technology    \n",
       "  homepage_url                     \n",
       "1 http://livfame.com               \n",
       "2 http://www.qounter.com           \n",
       "3 http://oneofthem.jp              \n",
       "4 http://www.0-6.com               \n",
       "5 http://004gmbh.de/en/004-interact\n",
       "6 http://www.01games.hk/           \n",
       "  category_list                                        status    country_code\n",
       "1 Media                                                operating IND         \n",
       "2 Application Platforms|Real Time|Social Network Media operating USA         \n",
       "3 Apps|Games|Mobile                                    operating             \n",
       "4 Curated Web                                          operating CHN         \n",
       "5 Software                                             operating USA         \n",
       "6 Games                                                operating HKG         \n",
       "  state_code region                city          founded_at\n",
       "1 16         Mumbai                Mumbai                  \n",
       "2 DE         DE - Other            Delaware City 04-09-2014\n",
       "3                                                          \n",
       "4 22         Beijing               Beijing       01-01-2007\n",
       "5 IL         Springfield, Illinois Champaign     01-01-2010\n",
       "6            Hong Kong             Hong Kong               "
      ]
     },
     "metadata": {},
     "output_type": "display_data"
    }
   ],
   "source": [
    "head(companies)"
   ]
  },
  {
   "cell_type": "code",
   "execution_count": 64,
   "metadata": {},
   "outputs": [
    {
     "data": {
      "text/html": [
       "<table>\n",
       "<thead><tr><th scope=col>company_permalink</th><th scope=col>funding_round_permalink</th><th scope=col>funding_round_type</th><th scope=col>funding_round_code</th><th scope=col>funded_at</th><th scope=col>raised_amount_usd</th></tr></thead>\n",
       "<tbody>\n",
       "\t<tr><td>/organization/-fame                            </td><td>/funding-round/9a01d05418af9f794eebff7ace91f638</td><td>venture                                        </td><td>B                                              </td><td>05-01-2015                                     </td><td>10000000                                       </td></tr>\n",
       "\t<tr><td>/ORGANIZATION/-QOUNTER                         </td><td>/funding-round/22dacff496eb7acb2b901dec1dfe5633</td><td>venture                                        </td><td>A                                              </td><td>14-10-2014                                     </td><td>      NA                                       </td></tr>\n",
       "\t<tr><td>/organization/-qounter                         </td><td>/funding-round/b44fbb94153f6cdef13083530bb48030</td><td>seed                                           </td><td>                                               </td><td>01-03-2014                                     </td><td>  700000                                       </td></tr>\n",
       "\t<tr><td>/ORGANIZATION/-THE-ONE-OF-THEM-INC-            </td><td>/funding-round/650b8f704416801069bb178a1418776b</td><td>venture                                        </td><td>B                                              </td><td>30-01-2014                                     </td><td> 3406878                                       </td></tr>\n",
       "\t<tr><td>/organization/0-6-com                          </td><td>/funding-round/5727accaeaa57461bd22a9bdd945382d</td><td>venture                                        </td><td>A                                              </td><td>19-03-2008                                     </td><td> 2000000                                       </td></tr>\n",
       "\t<tr><td>/ORGANIZATION/004-TECHNOLOGIES                 </td><td>/funding-round/1278dd4e6a37fa4b7d7e06c21b3c1830</td><td>venture                                        </td><td>                                               </td><td>24-07-2014                                     </td><td>      NA                                       </td></tr>\n",
       "</tbody>\n",
       "</table>\n"
      ],
      "text/latex": [
       "\\begin{tabular}{r|llllll}\n",
       " company\\_permalink & funding\\_round\\_permalink & funding\\_round\\_type & funding\\_round\\_code & funded\\_at & raised\\_amount\\_usd\\\\\n",
       "\\hline\n",
       "\t /organization/-fame                             & /funding-round/9a01d05418af9f794eebff7ace91f638 & venture                                         & B                                               & 05-01-2015                                      & 10000000                                       \\\\\n",
       "\t /ORGANIZATION/-QOUNTER                          & /funding-round/22dacff496eb7acb2b901dec1dfe5633 & venture                                         & A                                               & 14-10-2014                                      &       NA                                       \\\\\n",
       "\t /organization/-qounter                          & /funding-round/b44fbb94153f6cdef13083530bb48030 & seed                                            &                                                 & 01-03-2014                                      &   700000                                       \\\\\n",
       "\t /ORGANIZATION/-THE-ONE-OF-THEM-INC-             & /funding-round/650b8f704416801069bb178a1418776b & venture                                         & B                                               & 30-01-2014                                      &  3406878                                       \\\\\n",
       "\t /organization/0-6-com                           & /funding-round/5727accaeaa57461bd22a9bdd945382d & venture                                         & A                                               & 19-03-2008                                      &  2000000                                       \\\\\n",
       "\t /ORGANIZATION/004-TECHNOLOGIES                  & /funding-round/1278dd4e6a37fa4b7d7e06c21b3c1830 & venture                                         &                                                 & 24-07-2014                                      &       NA                                       \\\\\n",
       "\\end{tabular}\n"
      ],
      "text/markdown": [
       "\n",
       "company_permalink | funding_round_permalink | funding_round_type | funding_round_code | funded_at | raised_amount_usd | \n",
       "|---|---|---|---|---|---|\n",
       "| /organization/-fame                             | /funding-round/9a01d05418af9f794eebff7ace91f638 | venture                                         | B                                               | 05-01-2015                                      | 10000000                                        | \n",
       "| /ORGANIZATION/-QOUNTER                          | /funding-round/22dacff496eb7acb2b901dec1dfe5633 | venture                                         | A                                               | 14-10-2014                                      |       NA                                        | \n",
       "| /organization/-qounter                          | /funding-round/b44fbb94153f6cdef13083530bb48030 | seed                                            |                                                 | 01-03-2014                                      |   700000                                        | \n",
       "| /ORGANIZATION/-THE-ONE-OF-THEM-INC-             | /funding-round/650b8f704416801069bb178a1418776b | venture                                         | B                                               | 30-01-2014                                      |  3406878                                        | \n",
       "| /organization/0-6-com                           | /funding-round/5727accaeaa57461bd22a9bdd945382d | venture                                         | A                                               | 19-03-2008                                      |  2000000                                        | \n",
       "| /ORGANIZATION/004-TECHNOLOGIES                  | /funding-round/1278dd4e6a37fa4b7d7e06c21b3c1830 | venture                                         |                                                 | 24-07-2014                                      |       NA                                        | \n",
       "\n",
       "\n"
      ],
      "text/plain": [
       "  company_permalink                  \n",
       "1 /organization/-fame                \n",
       "2 /ORGANIZATION/-QOUNTER             \n",
       "3 /organization/-qounter             \n",
       "4 /ORGANIZATION/-THE-ONE-OF-THEM-INC-\n",
       "5 /organization/0-6-com              \n",
       "6 /ORGANIZATION/004-TECHNOLOGIES     \n",
       "  funding_round_permalink                         funding_round_type\n",
       "1 /funding-round/9a01d05418af9f794eebff7ace91f638 venture           \n",
       "2 /funding-round/22dacff496eb7acb2b901dec1dfe5633 venture           \n",
       "3 /funding-round/b44fbb94153f6cdef13083530bb48030 seed              \n",
       "4 /funding-round/650b8f704416801069bb178a1418776b venture           \n",
       "5 /funding-round/5727accaeaa57461bd22a9bdd945382d venture           \n",
       "6 /funding-round/1278dd4e6a37fa4b7d7e06c21b3c1830 venture           \n",
       "  funding_round_code funded_at  raised_amount_usd\n",
       "1 B                  05-01-2015 10000000         \n",
       "2 A                  14-10-2014       NA         \n",
       "3                    01-03-2014   700000         \n",
       "4 B                  30-01-2014  3406878         \n",
       "5 A                  19-03-2008  2000000         \n",
       "6                    24-07-2014       NA         "
      ]
     },
     "metadata": {},
     "output_type": "display_data"
    }
   ],
   "source": [
    "head(rounds2)"
   ]
  },
  {
   "cell_type": "markdown",
   "metadata": {},
   "source": [
    "unique companies present in companies data frame"
   ]
  },
  {
   "cell_type": "code",
   "execution_count": 65,
   "metadata": {},
   "outputs": [
    {
     "data": {
      "text/html": [
       "66368"
      ],
      "text/latex": [
       "66368"
      ],
      "text/markdown": [
       "66368"
      ],
      "text/plain": [
       "[1] 66368"
      ]
     },
     "metadata": {},
     "output_type": "display_data"
    }
   ],
   "source": [
    "companies$permalink <- tolower(companies$permalink)\n",
    "n_distinct(companies$permalink)"
   ]
  },
  {
   "cell_type": "markdown",
   "metadata": {},
   "source": [
    "unique companies present in rounds2 data frame"
   ]
  },
  {
   "cell_type": "code",
   "execution_count": 66,
   "metadata": {},
   "outputs": [
    {
     "data": {
      "text/html": [
       "66368"
      ],
      "text/latex": [
       "66368"
      ],
      "text/markdown": [
       "66368"
      ],
      "text/plain": [
       "[1] 66368"
      ]
     },
     "metadata": {},
     "output_type": "display_data"
    }
   ],
   "source": [
    "rounds2$company_permalink <- tolower(rounds2$company_permalink)\n",
    "n_distinct(rounds2$company_permalink)"
   ]
  },
  {
   "cell_type": "markdown",
   "metadata": {},
   "source": [
    "anti_join from dplyr helps to know the values present in one df that is not in other  \n",
    "companies in rounds2 df not in companies df"
   ]
  },
  {
   "cell_type": "code",
   "execution_count": 67,
   "metadata": {},
   "outputs": [
    {
     "data": {
      "text/html": [
       "<table>\n",
       "<thead><tr><th scope=col>n</th></tr></thead>\n",
       "<tbody>\n",
       "\t<tr><td>0</td></tr>\n",
       "</tbody>\n",
       "</table>\n"
      ],
      "text/latex": [
       "\\begin{tabular}{r|l}\n",
       " n\\\\\n",
       "\\hline\n",
       "\t 0\\\\\n",
       "\\end{tabular}\n"
      ],
      "text/markdown": [
       "\n",
       "n | \n",
       "|---|\n",
       "| 0 | \n",
       "\n",
       "\n"
      ],
      "text/plain": [
       "  n\n",
       "1 0"
      ]
     },
     "metadata": {},
     "output_type": "display_data"
    }
   ],
   "source": [
    "rounds2 %>% anti_join(companies, by = c('company_permalink' = 'permalink')) %>% count()"
   ]
  },
  {
   "cell_type": "markdown",
   "metadata": {},
   "source": [
    "full_join helps in merging two dfs based on a column(s)  \n",
    "merging companies and rounds2 datatables"
   ]
  },
  {
   "cell_type": "code",
   "execution_count": 68,
   "metadata": {},
   "outputs": [],
   "source": [
    "master_frame <- rounds2 %>% full_join(companies, by = c('company_permalink' = 'permalink'))"
   ]
  },
  {
   "cell_type": "markdown",
   "metadata": {},
   "source": [
    "funding amount grouped by funding type"
   ]
  },
  {
   "cell_type": "code",
   "execution_count": 69,
   "metadata": {},
   "outputs": [
    {
     "data": {
      "text/html": [
       "<table>\n",
       "<thead><tr><th scope=col>funding_round_type</th><th scope=col>avg_fund</th></tr></thead>\n",
       "<tbody>\n",
       "\t<tr><td>angel                </td><td>   958694.5          </td></tr>\n",
       "\t<tr><td>convertible_note     </td><td>  1453438.5          </td></tr>\n",
       "\t<tr><td>debt_financing       </td><td> 17043526.0          </td></tr>\n",
       "\t<tr><td>equity_crowdfunding  </td><td>   538368.2          </td></tr>\n",
       "\t<tr><td>grant                </td><td>  4300576.3          </td></tr>\n",
       "\t<tr><td>non_equity_assistance</td><td>   411203.1          </td></tr>\n",
       "\t<tr><td>post_ipo_debt        </td><td>168704571.8          </td></tr>\n",
       "\t<tr><td>post_ipo_equity      </td><td> 82182493.9          </td></tr>\n",
       "\t<tr><td>private_equity       </td><td> 73308593.0          </td></tr>\n",
       "\t<tr><td>product_crowdfunding </td><td>  1363131.1          </td></tr>\n",
       "\t<tr><td>secondary_market     </td><td> 79649630.1          </td></tr>\n",
       "\t<tr><td>seed                 </td><td>   719818.0          </td></tr>\n",
       "\t<tr><td>undisclosed          </td><td> 19242370.2          </td></tr>\n",
       "\t<tr><td>venture              </td><td> 11748949.1          </td></tr>\n",
       "</tbody>\n",
       "</table>\n"
      ],
      "text/latex": [
       "\\begin{tabular}{r|ll}\n",
       " funding\\_round\\_type & avg\\_fund\\\\\n",
       "\\hline\n",
       "\t angel                 &    958694.5          \\\\\n",
       "\t convertible\\_note      &   1453438.5            \\\\\n",
       "\t debt\\_financing        &  17043526.0            \\\\\n",
       "\t equity\\_crowdfunding   &    538368.2            \\\\\n",
       "\t grant                 &   4300576.3          \\\\\n",
       "\t non\\_equity\\_assistance &    411203.1              \\\\\n",
       "\t post\\_ipo\\_debt         & 168704571.8              \\\\\n",
       "\t post\\_ipo\\_equity       &  82182493.9              \\\\\n",
       "\t private\\_equity        &  73308593.0            \\\\\n",
       "\t product\\_crowdfunding  &   1363131.1            \\\\\n",
       "\t secondary\\_market      &  79649630.1            \\\\\n",
       "\t seed                  &    719818.0          \\\\\n",
       "\t undisclosed           &  19242370.2          \\\\\n",
       "\t venture               &  11748949.1          \\\\\n",
       "\\end{tabular}\n"
      ],
      "text/markdown": [
       "\n",
       "funding_round_type | avg_fund | \n",
       "|---|---|---|---|---|---|---|---|---|---|---|---|---|---|\n",
       "| angel                 |    958694.5           | \n",
       "| convertible_note      |   1453438.5           | \n",
       "| debt_financing        |  17043526.0           | \n",
       "| equity_crowdfunding   |    538368.2           | \n",
       "| grant                 |   4300576.3           | \n",
       "| non_equity_assistance |    411203.1           | \n",
       "| post_ipo_debt         | 168704571.8           | \n",
       "| post_ipo_equity       |  82182493.9           | \n",
       "| private_equity        |  73308593.0           | \n",
       "| product_crowdfunding  |   1363131.1           | \n",
       "| secondary_market      |  79649630.1           | \n",
       "| seed                  |    719818.0           | \n",
       "| undisclosed           |  19242370.2           | \n",
       "| venture               |  11748949.1           | \n",
       "\n",
       "\n"
      ],
      "text/plain": [
       "   funding_round_type    avg_fund   \n",
       "1  angel                    958694.5\n",
       "2  convertible_note        1453438.5\n",
       "3  debt_financing         17043526.0\n",
       "4  equity_crowdfunding      538368.2\n",
       "5  grant                   4300576.3\n",
       "6  non_equity_assistance    411203.1\n",
       "7  post_ipo_debt         168704571.8\n",
       "8  post_ipo_equity        82182493.9\n",
       "9  private_equity         73308593.0\n",
       "10 product_crowdfunding    1363131.1\n",
       "11 secondary_market       79649630.1\n",
       "12 seed                     719818.0\n",
       "13 undisclosed            19242370.2\n",
       "14 venture                11748949.1"
      ]
     },
     "metadata": {},
     "output_type": "display_data"
    }
   ],
   "source": [
    "master_frame %>% group_by(funding_round_type) %>% summarise(avg_fund = mean(raised_amount_usd, na.rm = T))"
   ]
  },
  {
   "cell_type": "markdown",
   "metadata": {},
   "source": [
    "top english speaking countries with highest funding"
   ]
  },
  {
   "cell_type": "code",
   "execution_count": 70,
   "metadata": {},
   "outputs": [
    {
     "data": {
      "text/html": [
       "<table>\n",
       "<thead><tr><th scope=col>country_code</th><th scope=col>tot_fund</th></tr></thead>\n",
       "<tbody>\n",
       "\t<tr><td>USA         </td><td>669482123821</td></tr>\n",
       "\t<tr><td>CHN         </td><td> 75703565796</td></tr>\n",
       "\t<tr><td>            </td><td> 57111228725</td></tr>\n",
       "\t<tr><td>GBR         </td><td> 32767048060</td></tr>\n",
       "\t<tr><td>IND         </td><td> 27686336560</td></tr>\n",
       "\t<tr><td>CAN         </td><td> 18424675109</td></tr>\n",
       "</tbody>\n",
       "</table>\n"
      ],
      "text/latex": [
       "\\begin{tabular}{r|ll}\n",
       " country\\_code & tot\\_fund\\\\\n",
       "\\hline\n",
       "\t USA          & 669482123821\\\\\n",
       "\t CHN          &  75703565796\\\\\n",
       "\t              &  57111228725\\\\\n",
       "\t GBR          &  32767048060\\\\\n",
       "\t IND          &  27686336560\\\\\n",
       "\t CAN          &  18424675109\\\\\n",
       "\\end{tabular}\n"
      ],
      "text/markdown": [
       "\n",
       "country_code | tot_fund | \n",
       "|---|---|---|---|---|---|\n",
       "| USA          | 669482123821 | \n",
       "| CHN          |  75703565796 | \n",
       "|              |  57111228725 | \n",
       "| GBR          |  32767048060 | \n",
       "| IND          |  27686336560 | \n",
       "| CAN          |  18424675109 | \n",
       "\n",
       "\n"
      ],
      "text/plain": [
       "  country_code tot_fund    \n",
       "1 USA          669482123821\n",
       "2 CHN           75703565796\n",
       "3               57111228725\n",
       "4 GBR           32767048060\n",
       "5 IND           27686336560\n",
       "6 CAN           18424675109"
      ]
     },
     "metadata": {},
     "output_type": "display_data"
    }
   ],
   "source": [
    "master_frame %>% group_by(country_code) %>% summarise(tot_fund = sum(raised_amount_usd, na.rm = T)) %>%\n",
    "  arrange(desc(tot_fund)) %>% head()"
   ]
  },
  {
   "cell_type": "markdown",
   "metadata": {},
   "source": [
    "category_list column has multiple categories seperated by '|'  \n",
    "we just need the first value"
   ]
  },
  {
   "cell_type": "code",
   "execution_count": 71,
   "metadata": {},
   "outputs": [],
   "source": [
    "master_frame$category_list <- str_split_fixed(master_frame$category_list, \"\\\\|\", n = 2)[,1]"
   ]
  },
  {
   "cell_type": "markdown",
   "metadata": {},
   "source": [
    "tidyr's gather function can be used to convert data from wide format to long format  \n",
    "reading the mapping.csv file and converting to long format"
   ]
  },
  {
   "cell_type": "code",
   "execution_count": 72,
   "metadata": {},
   "outputs": [],
   "source": [
    "mapping <- read.csv('mapping.csv', stringsAsFactors = F)\n",
    "mapping <- mapping %>% gather(key = 'main_sector', value = 'status', -category_list) %>%\n",
    "  filter(status != 0) %>% select(-status)"
   ]
  },
  {
   "cell_type": "code",
   "execution_count": 73,
   "metadata": {},
   "outputs": [],
   "source": [
    "mapping$main_sector  <- str_replace(mapping$main_sector, \"Blanks\", \"Others\")\n",
    "mapping$category_list <- tolower(mapping$category_list)\n",
    "master_frame$category_list <- tolower(master_frame$category_list)"
   ]
  },
  {
   "cell_type": "markdown",
   "metadata": {},
   "source": [
    "correcting the spelling errors"
   ]
  },
  {
   "cell_type": "code",
   "execution_count": 74,
   "metadata": {},
   "outputs": [],
   "source": [
    "mapping$category_list <- str_replace_all(mapping$category_list, '0', 'na')\n",
    "mapping[which(mapping$category_list == 'enterprise 2.na'), 'category_list'] <- 'enterprise 2.0'"
   ]
  },
  {
   "cell_type": "code",
   "execution_count": 75,
   "metadata": {},
   "outputs": [
    {
     "data": {
      "text/html": [
       "<table>\n",
       "<thead><tr><th scope=col>n</th></tr></thead>\n",
       "<tbody>\n",
       "\t<tr><td>41</td></tr>\n",
       "</tbody>\n",
       "</table>\n"
      ],
      "text/latex": [
       "\\begin{tabular}{r|l}\n",
       " n\\\\\n",
       "\\hline\n",
       "\t 41\\\\\n",
       "\\end{tabular}\n"
      ],
      "text/markdown": [
       "\n",
       "n | \n",
       "|---|\n",
       "| 41 | \n",
       "\n",
       "\n"
      ],
      "text/plain": [
       "  n \n",
       "1 41"
      ]
     },
     "metadata": {},
     "output_type": "display_data"
    }
   ],
   "source": [
    "# total categories that are present in master_frame but not in mapping\n",
    "master_frame %>% anti_join(mapping, by = c('category_list')) %>% distinct(category_list) %>% count()"
   ]
  },
  {
   "cell_type": "code",
   "execution_count": 76,
   "metadata": {},
   "outputs": [
    {
     "data": {
      "text/html": [
       "<table>\n",
       "<thead><tr><th scope=col>category_list</th></tr></thead>\n",
       "<tbody>\n",
       "</tbody>\n",
       "</table>\n"
      ],
      "text/latex": [
       "\\begin{tabular}{r|l}\n",
       " category\\_list\\\\\n",
       "\\hline\n",
       "\\end{tabular}\n"
      ],
      "text/markdown": [
       "\n",
       "category_list | \n",
       "||\n",
       "\n",
       "\n"
      ],
      "text/plain": [
       "     category_list"
      ]
     },
     "metadata": {},
     "output_type": "display_data"
    }
   ],
   "source": [
    "# categories that are present in mapping but not in master_frame\n",
    "mapping %>% anti_join(master_frame, by = c('category_list')) %>% distinct(category_list)"
   ]
  },
  {
   "cell_type": "code",
   "execution_count": 77,
   "metadata": {},
   "outputs": [],
   "source": [
    "# merging the two data frames\n",
    "master_frame <- master_frame %>% left_join(mapping, by = c('category_list'))"
   ]
  },
  {
   "cell_type": "code",
   "execution_count": 78,
   "metadata": {},
   "outputs": [],
   "source": [
    "# since few categories are not present in mapping after merging NAs will be generated\n",
    "# in the master_frame. Replace NA with Others category\n",
    "master_frame$main_sector <- str_replace_na(master_frame$main_sector, 'Others')"
   ]
  },
  {
   "cell_type": "markdown",
   "metadata": {},
   "source": [
    "creating separate data frames from USA, GBR, IND and for venture funding type"
   ]
  },
  {
   "cell_type": "code",
   "execution_count": 79,
   "metadata": {},
   "outputs": [],
   "source": [
    "d1 <- master_frame %>% filter(country_code == 'USA', funding_round_type == 'venture')\n",
    "d2 <- master_frame %>% filter(country_code == 'GBR', funding_round_type == 'venture')\n",
    "d3 <- master_frame %>% filter(country_code == 'IND', funding_round_type == 'venture')"
   ]
  },
  {
   "cell_type": "code",
   "execution_count": 80,
   "metadata": {},
   "outputs": [],
   "source": [
    "# total number and amount of investements in each main sector\n",
    "\n",
    "number_and_amount_invst <- function(d){\n",
    "  d %>% group_by(main_sector) %>% summarise(tot_inv = n(), amt_inv = sum(raised_amount_usd, na.rm = T)) %>%\n",
    "    arrange(desc(amt_inv)) %>% print()\n",
    "}"
   ]
  },
  {
   "cell_type": "code",
   "execution_count": 81,
   "metadata": {},
   "outputs": [
    {
     "name": "stdout",
     "output_type": "stream",
     "text": [
      "# A tibble: 8 x 3\n",
      "  main_sector                             tot_inv      amt_inv\n",
      "  <chr>                                     <int>        <dbl>\n",
      "1 Cleantech...Semiconductors                 8268 119931874301\n",
      "2 Social..Finance..Analytics..Advertising    7822  86331402349\n",
      "3 Others                                     9115  85479942169\n",
      "4 News..Search.and.Messaging                 4618  45600521085\n",
      "5 Health                                     3413  31675057766\n",
      "6 Manufacturing                              2643  24845319470\n",
      "7 Entertainment                              1927  17014560960\n",
      "8 Automotive...Sports                         566  11632164696\n"
     ]
    }
   ],
   "source": [
    "number_and_amount_invst(d1)"
   ]
  },
  {
   "cell_type": "code",
   "execution_count": 82,
   "metadata": {},
   "outputs": [
    {
     "name": "stdout",
     "output_type": "stream",
     "text": [
      "# A tibble: 8 x 3\n",
      "  main_sector                             tot_inv    amt_inv\n",
      "  <chr>                                     <int>      <dbl>\n",
      "1 Cleantech...Semiconductors                  466 5073290093\n",
      "2 Others                                      619 4733603292\n",
      "3 Social..Finance..Analytics..Advertising     481 3773328672\n",
      "4 News..Search.and.Messaging                  265 2956023749\n",
      "5 Entertainment                               160 1162564878\n",
      "6 Health                                      126 1046654806\n",
      "7 Manufacturing                               132 1019283214\n",
      "8 Automotive...Sports                          54  480878712\n"
     ]
    }
   ],
   "source": [
    "number_and_amount_invst(d2)"
   ]
  },
  {
   "cell_type": "code",
   "execution_count": 83,
   "metadata": {},
   "outputs": [
    {
     "name": "stdout",
     "output_type": "stream",
     "text": [
      "# A tibble: 8 x 3\n",
      "  main_sector                             tot_inv    amt_inv\n",
      "  <chr>                                     <int>      <dbl>\n",
      "1 Others                                      340 6459857440\n",
      "2 News..Search.and.Messaging                  154 1739579948\n",
      "3 Social..Finance..Analytics..Advertising     193 1578804920\n",
      "4 Automotive...Sports                          32 1556350000\n",
      "5 Entertainment                                90  976191777\n",
      "6 Cleantech...Semiconductors                   63  786444633\n",
      "7 Manufacturing                                64  730260000\n",
      "8 Health                                       56  564370000\n"
     ]
    }
   ],
   "source": [
    "number_and_amount_invst(d3)"
   ]
  },
  {
   "cell_type": "code",
   "execution_count": 84,
   "metadata": {},
   "outputs": [],
   "source": [
    "# company with highest investment in Others category\n",
    "company_with_high_invst <- function(d){\n",
    "  d %>% filter(main_sector == 'Others') %>% group_by(name) %>% \n",
    "    summarise(amt_inv = sum(raised_amount_usd, na.rm = T)) %>% \n",
    "    arrange(desc(amt_inv)) %>% head()\n",
    "}"
   ]
  },
  {
   "cell_type": "code",
   "execution_count": 85,
   "metadata": {},
   "outputs": [
    {
     "data": {
      "text/html": [
       "<table>\n",
       "<thead><tr><th scope=col>name</th><th scope=col>amt_inv</th></tr></thead>\n",
       "<tbody>\n",
       "\t<tr><td>SoFi        </td><td>1365199900  </td></tr>\n",
       "\t<tr><td>Snapchat    </td><td>1165100000  </td></tr>\n",
       "\t<tr><td>LivingSocial</td><td> 818225039  </td></tr>\n",
       "\t<tr><td>Facebook    </td><td> 615200000  </td></tr>\n",
       "\t<tr><td>Zenefits    </td><td> 581500000  </td></tr>\n",
       "\t<tr><td>CoreExpress </td><td> 573000000  </td></tr>\n",
       "</tbody>\n",
       "</table>\n"
      ],
      "text/latex": [
       "\\begin{tabular}{r|ll}\n",
       " name & amt\\_inv\\\\\n",
       "\\hline\n",
       "\t SoFi         & 1365199900  \\\\\n",
       "\t Snapchat     & 1165100000  \\\\\n",
       "\t LivingSocial &  818225039  \\\\\n",
       "\t Facebook     &  615200000  \\\\\n",
       "\t Zenefits     &  581500000  \\\\\n",
       "\t CoreExpress  &  573000000  \\\\\n",
       "\\end{tabular}\n"
      ],
      "text/markdown": [
       "\n",
       "name | amt_inv | \n",
       "|---|---|---|---|---|---|\n",
       "| SoFi         | 1365199900   | \n",
       "| Snapchat     | 1165100000   | \n",
       "| LivingSocial |  818225039   | \n",
       "| Facebook     |  615200000   | \n",
       "| Zenefits     |  581500000   | \n",
       "| CoreExpress  |  573000000   | \n",
       "\n",
       "\n"
      ],
      "text/plain": [
       "  name         amt_inv   \n",
       "1 SoFi         1365199900\n",
       "2 Snapchat     1165100000\n",
       "3 LivingSocial  818225039\n",
       "4 Facebook      615200000\n",
       "5 Zenefits      581500000\n",
       "6 CoreExpress   573000000"
      ]
     },
     "metadata": {},
     "output_type": "display_data"
    }
   ],
   "source": [
    "company_with_high_invst(d1)"
   ]
  },
  {
   "cell_type": "code",
   "execution_count": 86,
   "metadata": {},
   "outputs": [
    {
     "data": {
      "text/html": [
       "<table>\n",
       "<thead><tr><th scope=col>name</th><th scope=col>amt_inv</th></tr></thead>\n",
       "<tbody>\n",
       "\t<tr><td>OneWeb           </td><td>500000000        </td></tr>\n",
       "\t<tr><td>Farfetch         </td><td>194500000        </td></tr>\n",
       "\t<tr><td>Liquid Telecom   </td><td>150000000        </td></tr>\n",
       "\t<tr><td>picoChip         </td><td>111500000        </td></tr>\n",
       "\t<tr><td>NewVoiceMedia    </td><td>111300000        </td></tr>\n",
       "\t<tr><td>Six Degrees Group</td><td>106392886        </td></tr>\n",
       "</tbody>\n",
       "</table>\n"
      ],
      "text/latex": [
       "\\begin{tabular}{r|ll}\n",
       " name & amt\\_inv\\\\\n",
       "\\hline\n",
       "\t OneWeb            & 500000000        \\\\\n",
       "\t Farfetch          & 194500000        \\\\\n",
       "\t Liquid Telecom    & 150000000        \\\\\n",
       "\t picoChip          & 111500000        \\\\\n",
       "\t NewVoiceMedia     & 111300000        \\\\\n",
       "\t Six Degrees Group & 106392886        \\\\\n",
       "\\end{tabular}\n"
      ],
      "text/markdown": [
       "\n",
       "name | amt_inv | \n",
       "|---|---|---|---|---|---|\n",
       "| OneWeb            | 500000000         | \n",
       "| Farfetch          | 194500000         | \n",
       "| Liquid Telecom    | 150000000         | \n",
       "| picoChip          | 111500000         | \n",
       "| NewVoiceMedia     | 111300000         | \n",
       "| Six Degrees Group | 106392886         | \n",
       "\n",
       "\n"
      ],
      "text/plain": [
       "  name              amt_inv  \n",
       "1 OneWeb            500000000\n",
       "2 Farfetch          194500000\n",
       "3 Liquid Telecom    150000000\n",
       "4 picoChip          111500000\n",
       "5 NewVoiceMedia     111300000\n",
       "6 Six Degrees Group 106392886"
      ]
     },
     "metadata": {},
     "output_type": "display_data"
    }
   ],
   "source": [
    "company_with_high_invst(d2)"
   ]
  },
  {
   "cell_type": "code",
   "execution_count": 87,
   "metadata": {},
   "outputs": [
    {
     "data": {
      "text/html": [
       "<table>\n",
       "<thead><tr><th scope=col>name</th><th scope=col>amt_inv</th></tr></thead>\n",
       "<tbody>\n",
       "\t<tr><td>Flipkart         </td><td>2451000000       </td></tr>\n",
       "\t<tr><td>Snapdeal         </td><td> 310699998       </td></tr>\n",
       "\t<tr><td>Tata Teleservices</td><td> 212000000       </td></tr>\n",
       "\t<tr><td>Myntra           </td><td> 158750000       </td></tr>\n",
       "\t<tr><td>Pepperfry.com    </td><td> 128000000       </td></tr>\n",
       "\t<tr><td>Delhivery        </td><td> 127500000       </td></tr>\n",
       "</tbody>\n",
       "</table>\n"
      ],
      "text/latex": [
       "\\begin{tabular}{r|ll}\n",
       " name & amt\\_inv\\\\\n",
       "\\hline\n",
       "\t Flipkart          & 2451000000       \\\\\n",
       "\t Snapdeal          &  310699998       \\\\\n",
       "\t Tata Teleservices &  212000000       \\\\\n",
       "\t Myntra            &  158750000       \\\\\n",
       "\t Pepperfry.com     &  128000000       \\\\\n",
       "\t Delhivery         &  127500000       \\\\\n",
       "\\end{tabular}\n"
      ],
      "text/markdown": [
       "\n",
       "name | amt_inv | \n",
       "|---|---|---|---|---|---|\n",
       "| Flipkart          | 2451000000        | \n",
       "| Snapdeal          |  310699998        | \n",
       "| Tata Teleservices |  212000000        | \n",
       "| Myntra            |  158750000        | \n",
       "| Pepperfry.com     |  128000000        | \n",
       "| Delhivery         |  127500000        | \n",
       "\n",
       "\n"
      ],
      "text/plain": [
       "  name              amt_inv   \n",
       "1 Flipkart          2451000000\n",
       "2 Snapdeal           310699998\n",
       "3 Tata Teleservices  212000000\n",
       "4 Myntra             158750000\n",
       "5 Pepperfry.com      128000000\n",
       "6 Delhivery          127500000"
      ]
     },
     "metadata": {},
     "output_type": "display_data"
    }
   ],
   "source": [
    "company_with_high_invst(d3)"
   ]
  }
 ],
 "metadata": {
  "kernelspec": {
   "display_name": "R",
   "language": "R",
   "name": "ir"
  },
  "language_info": {
   "codemirror_mode": "r",
   "file_extension": ".r",
   "mimetype": "text/x-r-source",
   "name": "R",
   "pygments_lexer": "r",
   "version": "3.4.3"
  }
 },
 "nbformat": 4,
 "nbformat_minor": 2
}
